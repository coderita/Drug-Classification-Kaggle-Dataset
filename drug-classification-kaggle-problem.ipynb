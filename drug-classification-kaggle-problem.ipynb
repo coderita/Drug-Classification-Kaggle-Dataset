{
 "cells": [
  {
   "cell_type": "markdown",
   "metadata": {
    "papermill": {
     "duration": 0.057257,
     "end_time": "2021-11-22T18:49:44.501019",
     "exception": false,
     "start_time": "2021-11-22T18:49:44.443762",
     "status": "completed"
    },
    "tags": []
   },
   "source": [
    "# Introduction\n",
    "\n",
    "1. [Read Data and PreCheck](#1)\n",
    "1. [Variable Description](#2)\n",
    "    * [Univariate Variable Analysis](#3)\n",
    "        1. [Age Variable](#4)\n",
    "        1. [Sex Variable](#5)\n",
    "        1. [BP Variable](#6)\n",
    "        1. [Cholesterol Variable](#7)\n",
    "        1. [Na_to_K Variable](#8)\n",
    "        1. [Drug Variable](#9)\n",
    "1. [Basic Data Analysis and Visualization](#10)\n",
    "    * [Age -- Drug](#11)\n",
    "    * [Sex -- Drug](#12)\n",
    "    * [BP -- Drug](#13)\n",
    "    * [Na_to_K -- Drug](#14)\n",
    "    * [Cholesterol -- Drug](#15)\n",
    "    * [Na_to_K -- BP -- Drug](#16)\n",
    "1. [Preparing Data and Feature Engineering](#17)\n",
    "    * [Create New Features](#18)\n",
    "        * [Na_to_K_Bigger_Than_15](#19)\n",
    "    * [Label Encoding](#20)\n",
    "    * [Train Test Split](#21)\n",
    "1. [Model Implementation](#22)\n",
    "    1. [KNN Classifier](#23)\n",
    "        * [Default Parameters](#24)\n",
    "        * [GridSearchCV](#25)\n",
    "    2. [Random Forest Classifier](#26)\n",
    "        * [Default Parameters](#27)\n",
    "        * [GridSearchCV](#28)\n",
    "    3. [SVM Classifier](#29)\n",
    "        * [Default Parameters](#30)\n",
    "        * [GridSearchCV](#31)\n",
    "1. [Conclusion](#32)"
   ]
  },
  {
   "cell_type": "code",
   "execution_count": 1,
   "metadata": {
    "_cell_guid": "b1076dfc-b9ad-4769-8c92-a6c4dae69d19",
    "_uuid": "8f2839f25d086af736a60e9eeb907d3b93b6e0e5",
    "execution": {
     "iopub.execute_input": "2021-11-22T18:49:44.626002Z",
     "iopub.status.busy": "2021-11-22T18:49:44.625231Z",
     "iopub.status.idle": "2021-11-22T18:49:45.472587Z",
     "shell.execute_reply": "2021-11-22T18:49:45.471714Z",
     "shell.execute_reply.started": "2021-11-22T14:16:59.573699Z"
    },
    "papermill": {
     "duration": 0.914875,
     "end_time": "2021-11-22T18:49:45.472760",
     "exception": false,
     "start_time": "2021-11-22T18:49:44.557885",
     "status": "completed"
    },
    "tags": []
   },
   "outputs": [
    {
     "name": "stdout",
     "output_type": "stream",
     "text": [
      "/kaggle/input/drug-classification/drug200.csv\n"
     ]
    }
   ],
   "source": [
    "# This Python 3 environment comes with many helpful analytics libraries installed\n",
    "# It is defined by the kaggle/python Docker image: https://github.com/kaggle/docker-python\n",
    "# For example, here's several helpful packages to load\n",
    "\n",
    "import numpy as np # linear algebra\n",
    "import pandas as pd # data processing, CSV file I/O (e.g. pd.read_csv)\n",
    "import seaborn as sns\n",
    "import matplotlib.pyplot as plt\n",
    "\n",
    "import warnings\n",
    "warnings.filterwarnings(\"ignore\")\n",
    "from sklearn.model_selection import GridSearchCV\n",
    "from sklearn.model_selection import cross_val_score\n",
    "# Input data files are available in the read-only \"../input/\" directory\n",
    "# For example, running this (by clicking run or pressing Shift+Enter) will list all files under the input directory\n",
    "\n",
    "import os\n",
    "for dirname, _, filenames in os.walk('/kaggle/input'):\n",
    "    for filename in filenames:\n",
    "        print(os.path.join(dirname, filename))\n",
    "\n",
    "# You can write up to 5GB to the current directory (/kaggle/working/) that gets preserved as output when you create a version using \"Save & Run All\" \n",
    "# You can also write temporary files to /kaggle/temp/, but they won't be saved outside of the current session"
   ]
  },
  {
   "cell_type": "markdown",
   "metadata": {
    "papermill": {
     "duration": 0.053068,
     "end_time": "2021-11-22T18:49:45.579139",
     "exception": false,
     "start_time": "2021-11-22T18:49:45.526071",
     "status": "completed"
    },
    "tags": []
   },
   "source": [
    "<a id='1'></a>\n",
    "# Read Data and PreCheck"
   ]
  },
  {
   "cell_type": "markdown",
   "metadata": {
    "papermill": {
     "duration": 0.05212,
     "end_time": "2021-11-22T18:49:45.684246",
     "exception": false,
     "start_time": "2021-11-22T18:49:45.632126",
     "status": "completed"
    },
    "tags": []
   },
   "source": [
    "**Task Details**\n",
    "Here the given data set has a series of parameter of the patient like Sex, Drug Type etc.\n",
    "\n",
    "**Expected Submission**\n",
    "The solution should contain a well-made machine learning model with high confidence in predicting the drug type (A, B,C,X,Y) that should be given to a particular patient based on their characteristics and which drug type will suit them best."
   ]
  },
  {
   "cell_type": "code",
   "execution_count": 2,
   "metadata": {
    "_cell_guid": "79c7e3d0-c299-4dcb-8224-4455121ee9b0",
    "_uuid": "d629ff2d2480ee46fbb7e2d37f6b5fab8052498a",
    "execution": {
     "iopub.execute_input": "2021-11-22T18:49:45.796020Z",
     "iopub.status.busy": "2021-11-22T18:49:45.795473Z",
     "iopub.status.idle": "2021-11-22T18:49:45.807669Z",
     "shell.execute_reply": "2021-11-22T18:49:45.807152Z",
     "shell.execute_reply.started": "2021-11-22T14:16:59.587852Z"
    },
    "papermill": {
     "duration": 0.070443,
     "end_time": "2021-11-22T18:49:45.807796",
     "exception": false,
     "start_time": "2021-11-22T18:49:45.737353",
     "status": "completed"
    },
    "tags": []
   },
   "outputs": [],
   "source": [
    "df = pd.read_csv(\"../input/drug-classification/drug200.csv\")"
   ]
  },
  {
   "cell_type": "code",
   "execution_count": 3,
   "metadata": {
    "execution": {
     "iopub.execute_input": "2021-11-22T18:49:45.928440Z",
     "iopub.status.busy": "2021-11-22T18:49:45.927445Z",
     "iopub.status.idle": "2021-11-22T18:49:45.937849Z",
     "shell.execute_reply": "2021-11-22T18:49:45.937359Z",
     "shell.execute_reply.started": "2021-11-22T14:16:59.615022Z"
    },
    "papermill": {
     "duration": 0.076542,
     "end_time": "2021-11-22T18:49:45.937955",
     "exception": false,
     "start_time": "2021-11-22T18:49:45.861413",
     "status": "completed"
    },
    "tags": []
   },
   "outputs": [
    {
     "data": {
      "text/html": [
       "<div>\n",
       "<style scoped>\n",
       "    .dataframe tbody tr th:only-of-type {\n",
       "        vertical-align: middle;\n",
       "    }\n",
       "\n",
       "    .dataframe tbody tr th {\n",
       "        vertical-align: top;\n",
       "    }\n",
       "\n",
       "    .dataframe thead th {\n",
       "        text-align: right;\n",
       "    }\n",
       "</style>\n",
       "<table border=\"1\" class=\"dataframe\">\n",
       "  <thead>\n",
       "    <tr style=\"text-align: right;\">\n",
       "      <th></th>\n",
       "      <th>Age</th>\n",
       "      <th>Sex</th>\n",
       "      <th>BP</th>\n",
       "      <th>Cholesterol</th>\n",
       "      <th>Na_to_K</th>\n",
       "      <th>Drug</th>\n",
       "    </tr>\n",
       "  </thead>\n",
       "  <tbody>\n",
       "    <tr>\n",
       "      <th>0</th>\n",
       "      <td>23</td>\n",
       "      <td>F</td>\n",
       "      <td>HIGH</td>\n",
       "      <td>HIGH</td>\n",
       "      <td>25.355</td>\n",
       "      <td>DrugY</td>\n",
       "    </tr>\n",
       "    <tr>\n",
       "      <th>1</th>\n",
       "      <td>47</td>\n",
       "      <td>M</td>\n",
       "      <td>LOW</td>\n",
       "      <td>HIGH</td>\n",
       "      <td>13.093</td>\n",
       "      <td>drugC</td>\n",
       "    </tr>\n",
       "    <tr>\n",
       "      <th>2</th>\n",
       "      <td>47</td>\n",
       "      <td>M</td>\n",
       "      <td>LOW</td>\n",
       "      <td>HIGH</td>\n",
       "      <td>10.114</td>\n",
       "      <td>drugC</td>\n",
       "    </tr>\n",
       "    <tr>\n",
       "      <th>3</th>\n",
       "      <td>28</td>\n",
       "      <td>F</td>\n",
       "      <td>NORMAL</td>\n",
       "      <td>HIGH</td>\n",
       "      <td>7.798</td>\n",
       "      <td>drugX</td>\n",
       "    </tr>\n",
       "    <tr>\n",
       "      <th>4</th>\n",
       "      <td>61</td>\n",
       "      <td>F</td>\n",
       "      <td>LOW</td>\n",
       "      <td>HIGH</td>\n",
       "      <td>18.043</td>\n",
       "      <td>DrugY</td>\n",
       "    </tr>\n",
       "  </tbody>\n",
       "</table>\n",
       "</div>"
      ],
      "text/plain": [
       "   Age Sex      BP Cholesterol  Na_to_K   Drug\n",
       "0   23   F    HIGH        HIGH   25.355  DrugY\n",
       "1   47   M     LOW        HIGH   13.093  drugC\n",
       "2   47   M     LOW        HIGH   10.114  drugC\n",
       "3   28   F  NORMAL        HIGH    7.798  drugX\n",
       "4   61   F     LOW        HIGH   18.043  DrugY"
      ]
     },
     "execution_count": 3,
     "metadata": {},
     "output_type": "execute_result"
    }
   ],
   "source": [
    "df.head()"
   ]
  },
  {
   "cell_type": "code",
   "execution_count": 4,
   "metadata": {
    "execution": {
     "iopub.execute_input": "2021-11-22T18:49:46.064626Z",
     "iopub.status.busy": "2021-11-22T18:49:46.063717Z",
     "iopub.status.idle": "2021-11-22T18:49:46.077637Z",
     "shell.execute_reply": "2021-11-22T18:49:46.077145Z",
     "shell.execute_reply.started": "2021-11-22T14:16:59.649861Z"
    },
    "papermill": {
     "duration": 0.080349,
     "end_time": "2021-11-22T18:49:46.077777",
     "exception": false,
     "start_time": "2021-11-22T18:49:45.997428",
     "status": "completed"
    },
    "tags": []
   },
   "outputs": [
    {
     "data": {
      "text/html": [
       "<div>\n",
       "<style scoped>\n",
       "    .dataframe tbody tr th:only-of-type {\n",
       "        vertical-align: middle;\n",
       "    }\n",
       "\n",
       "    .dataframe tbody tr th {\n",
       "        vertical-align: top;\n",
       "    }\n",
       "\n",
       "    .dataframe thead th {\n",
       "        text-align: right;\n",
       "    }\n",
       "</style>\n",
       "<table border=\"1\" class=\"dataframe\">\n",
       "  <thead>\n",
       "    <tr style=\"text-align: right;\">\n",
       "      <th></th>\n",
       "      <th>Age</th>\n",
       "      <th>Na_to_K</th>\n",
       "    </tr>\n",
       "  </thead>\n",
       "  <tbody>\n",
       "    <tr>\n",
       "      <th>count</th>\n",
       "      <td>200.000000</td>\n",
       "      <td>200.000000</td>\n",
       "    </tr>\n",
       "    <tr>\n",
       "      <th>mean</th>\n",
       "      <td>44.315000</td>\n",
       "      <td>16.084485</td>\n",
       "    </tr>\n",
       "    <tr>\n",
       "      <th>std</th>\n",
       "      <td>16.544315</td>\n",
       "      <td>7.223956</td>\n",
       "    </tr>\n",
       "    <tr>\n",
       "      <th>min</th>\n",
       "      <td>15.000000</td>\n",
       "      <td>6.269000</td>\n",
       "    </tr>\n",
       "    <tr>\n",
       "      <th>25%</th>\n",
       "      <td>31.000000</td>\n",
       "      <td>10.445500</td>\n",
       "    </tr>\n",
       "    <tr>\n",
       "      <th>50%</th>\n",
       "      <td>45.000000</td>\n",
       "      <td>13.936500</td>\n",
       "    </tr>\n",
       "    <tr>\n",
       "      <th>75%</th>\n",
       "      <td>58.000000</td>\n",
       "      <td>19.380000</td>\n",
       "    </tr>\n",
       "    <tr>\n",
       "      <th>max</th>\n",
       "      <td>74.000000</td>\n",
       "      <td>38.247000</td>\n",
       "    </tr>\n",
       "  </tbody>\n",
       "</table>\n",
       "</div>"
      ],
      "text/plain": [
       "              Age     Na_to_K\n",
       "count  200.000000  200.000000\n",
       "mean    44.315000   16.084485\n",
       "std     16.544315    7.223956\n",
       "min     15.000000    6.269000\n",
       "25%     31.000000   10.445500\n",
       "50%     45.000000   13.936500\n",
       "75%     58.000000   19.380000\n",
       "max     74.000000   38.247000"
      ]
     },
     "execution_count": 4,
     "metadata": {},
     "output_type": "execute_result"
    }
   ],
   "source": [
    "df.describe()"
   ]
  },
  {
   "cell_type": "code",
   "execution_count": 5,
   "metadata": {
    "execution": {
     "iopub.execute_input": "2021-11-22T18:49:46.199357Z",
     "iopub.status.busy": "2021-11-22T18:49:46.198582Z",
     "iopub.status.idle": "2021-11-22T18:49:46.202369Z",
     "shell.execute_reply": "2021-11-22T18:49:46.201584Z",
     "shell.execute_reply.started": "2021-11-22T14:16:59.668321Z"
    },
    "papermill": {
     "duration": 0.064516,
     "end_time": "2021-11-22T18:49:46.202480",
     "exception": false,
     "start_time": "2021-11-22T18:49:46.137964",
     "status": "completed"
    },
    "tags": []
   },
   "outputs": [
    {
     "data": {
      "text/plain": [
       "Age            0\n",
       "Sex            0\n",
       "BP             0\n",
       "Cholesterol    0\n",
       "Na_to_K        0\n",
       "Drug           0\n",
       "dtype: int64"
      ]
     },
     "execution_count": 5,
     "metadata": {},
     "output_type": "execute_result"
    }
   ],
   "source": [
    "df.isnull().sum()"
   ]
  },
  {
   "cell_type": "code",
   "execution_count": 6,
   "metadata": {
    "execution": {
     "iopub.execute_input": "2021-11-22T18:49:46.318184Z",
     "iopub.status.busy": "2021-11-22T18:49:46.317446Z",
     "iopub.status.idle": "2021-11-22T18:49:46.321067Z",
     "shell.execute_reply": "2021-11-22T18:49:46.320536Z",
     "shell.execute_reply.started": "2021-11-22T14:16:59.677719Z"
    },
    "papermill": {
     "duration": 0.06447,
     "end_time": "2021-11-22T18:49:46.321161",
     "exception": false,
     "start_time": "2021-11-22T18:49:46.256691",
     "status": "completed"
    },
    "tags": []
   },
   "outputs": [
    {
     "data": {
      "text/plain": [
       "Age            0\n",
       "Sex            0\n",
       "BP             0\n",
       "Cholesterol    0\n",
       "Na_to_K        0\n",
       "Drug           0\n",
       "dtype: int64"
      ]
     },
     "execution_count": 6,
     "metadata": {},
     "output_type": "execute_result"
    }
   ],
   "source": [
    "df.isna().sum()"
   ]
  },
  {
   "cell_type": "markdown",
   "metadata": {
    "papermill": {
     "duration": 0.053713,
     "end_time": "2021-11-22T18:49:46.429432",
     "exception": false,
     "start_time": "2021-11-22T18:49:46.375719",
     "status": "completed"
    },
    "tags": []
   },
   "source": [
    "* No missing value\n",
    "* 6 columns\n",
    "* 200 rows"
   ]
  },
  {
   "cell_type": "markdown",
   "metadata": {
    "papermill": {
     "duration": 0.053182,
     "end_time": "2021-11-22T18:49:46.536029",
     "exception": false,
     "start_time": "2021-11-22T18:49:46.482847",
     "status": "completed"
    },
    "tags": []
   },
   "source": [
    "<a id='2'></a>\n",
    "# Variable Description\n",
    "\n",
    "* Age: Age of patient (Numerical)\n",
    "* Sex: Gender of patient (Categorical)\n",
    "* BP: Blood pressure of patient (Categorical)\n",
    "* Cholesterol: Cholesterol of patient (Categorical)\n",
    "* Na_to_K: Sodium to Potassium Ratio in Blood (Numerical)\n",
    "* Drug: Drug Type (Categorical)"
   ]
  },
  {
   "cell_type": "code",
   "execution_count": 7,
   "metadata": {
    "execution": {
     "iopub.execute_input": "2021-11-22T18:49:46.649820Z",
     "iopub.status.busy": "2021-11-22T18:49:46.648977Z",
     "iopub.status.idle": "2021-11-22T18:49:46.660607Z",
     "shell.execute_reply": "2021-11-22T18:49:46.659914Z",
     "shell.execute_reply.started": "2021-11-22T14:16:59.692300Z"
    },
    "papermill": {
     "duration": 0.071034,
     "end_time": "2021-11-22T18:49:46.660757",
     "exception": false,
     "start_time": "2021-11-22T18:49:46.589723",
     "status": "completed"
    },
    "tags": []
   },
   "outputs": [
    {
     "name": "stdout",
     "output_type": "stream",
     "text": [
      "<class 'pandas.core.frame.DataFrame'>\n",
      "RangeIndex: 200 entries, 0 to 199\n",
      "Data columns (total 6 columns):\n",
      " #   Column       Non-Null Count  Dtype  \n",
      "---  ------       --------------  -----  \n",
      " 0   Age          200 non-null    int64  \n",
      " 1   Sex          200 non-null    object \n",
      " 2   BP           200 non-null    object \n",
      " 3   Cholesterol  200 non-null    object \n",
      " 4   Na_to_K      200 non-null    float64\n",
      " 5   Drug         200 non-null    object \n",
      "dtypes: float64(1), int64(1), object(4)\n",
      "memory usage: 9.5+ KB\n"
     ]
    }
   ],
   "source": [
    "df.info()"
   ]
  },
  {
   "cell_type": "markdown",
   "metadata": {
    "papermill": {
     "duration": 0.057231,
     "end_time": "2021-11-22T18:49:46.776938",
     "exception": false,
     "start_time": "2021-11-22T18:49:46.719707",
     "status": "completed"
    },
    "tags": []
   },
   "source": [
    "* float64(1): Na_to_K  -> Numerical Continuous Value\n",
    "* int64(1): Age  -> Numerical Discrete Value\n",
    "* object(4): Sex, BP, Cholesterol, Drug  ->Categorical"
   ]
  },
  {
   "cell_type": "markdown",
   "metadata": {
    "papermill": {
     "duration": 0.054461,
     "end_time": "2021-11-22T18:49:46.886029",
     "exception": false,
     "start_time": "2021-11-22T18:49:46.831568",
     "status": "completed"
    },
    "tags": []
   },
   "source": [
    "<a id='3'></a>\n",
    "## Univariate Variable Analysis"
   ]
  },
  {
   "cell_type": "markdown",
   "metadata": {
    "papermill": {
     "duration": 0.053677,
     "end_time": "2021-11-22T18:49:46.994275",
     "exception": false,
     "start_time": "2021-11-22T18:49:46.940598",
     "status": "completed"
    },
    "tags": []
   },
   "source": [
    "<a id='4'></a>\n",
    "### Age Variable"
   ]
  },
  {
   "cell_type": "code",
   "execution_count": 8,
   "metadata": {
    "execution": {
     "iopub.execute_input": "2021-11-22T18:49:47.108151Z",
     "iopub.status.busy": "2021-11-22T18:49:47.107391Z",
     "iopub.status.idle": "2021-11-22T18:49:47.111871Z",
     "shell.execute_reply": "2021-11-22T18:49:47.111235Z",
     "shell.execute_reply.started": "2021-11-22T14:16:59.707037Z"
    },
    "papermill": {
     "duration": 0.063675,
     "end_time": "2021-11-22T18:49:47.111992",
     "exception": false,
     "start_time": "2021-11-22T18:49:47.048317",
     "status": "completed"
    },
    "tags": []
   },
   "outputs": [
    {
     "name": "stdout",
     "output_type": "stream",
     "text": [
      "Max Age: 74\n",
      "Min Age: 15\n"
     ]
    }
   ],
   "source": [
    "print(\"Max Age:\", df.Age.max())\n",
    "print(\"Min Age:\", df.Age.min())"
   ]
  },
  {
   "cell_type": "code",
   "execution_count": 9,
   "metadata": {
    "execution": {
     "iopub.execute_input": "2021-11-22T18:49:47.226845Z",
     "iopub.status.busy": "2021-11-22T18:49:47.226290Z",
     "iopub.status.idle": "2021-11-22T18:49:47.826469Z",
     "shell.execute_reply": "2021-11-22T18:49:47.827064Z",
     "shell.execute_reply.started": "2021-11-22T14:16:59.713978Z"
    },
    "papermill": {
     "duration": 0.660382,
     "end_time": "2021-11-22T18:49:47.827219",
     "exception": false,
     "start_time": "2021-11-22T18:49:47.166837",
     "status": "completed"
    },
    "tags": []
   },
   "outputs": [
    {
     "data": {
      "image/png": "[encoded data removed]",
      "text/plain": [
       "<Figure size 1152x360 with 1 Axes>"
      ]
     },
     "metadata": {
      "needs_background": "light"
     },
     "output_type": "display_data"
    }
   ],
   "source": [
    "# Age distribution\n",
    "plt.figure(figsize = (16,5))\n",
    "sns.countplot(df.Age)\n",
    "plt.show()"
   ]
  },
  {
   "cell_type": "markdown",
   "metadata": {
    "papermill": {
     "duration": 0.054936,
     "end_time": "2021-11-22T18:49:47.941577",
     "exception": false,
     "start_time": "2021-11-22T18:49:47.886641",
     "status": "completed"
    },
    "tags": []
   },
   "source": [
    "* Age range is between 15 and 74.\n",
    "* Mode = 47"
   ]
  },
  {
   "cell_type": "markdown",
   "metadata": {
    "papermill": {
     "duration": 0.054577,
     "end_time": "2021-11-22T18:49:48.051484",
     "exception": false,
     "start_time": "2021-11-22T18:49:47.996907",
     "status": "completed"
    },
    "tags": []
   },
   "source": [
    "<a id='5'></a>\n",
    "### Sex Variable"
   ]
  },
  {
   "cell_type": "code",
   "execution_count": 10,
   "metadata": {
    "execution": {
     "iopub.execute_input": "2021-11-22T18:49:48.204565Z",
     "iopub.status.busy": "2021-11-22T18:49:48.203593Z",
     "iopub.status.idle": "2021-11-22T18:49:48.207052Z",
     "shell.execute_reply": "2021-11-22T18:49:48.207640Z",
     "shell.execute_reply.started": "2021-11-22T14:17:00.325521Z"
    },
    "papermill": {
     "duration": 0.098177,
     "end_time": "2021-11-22T18:49:48.207795",
     "exception": false,
     "start_time": "2021-11-22T18:49:48.109618",
     "status": "completed"
    },
    "tags": []
   },
   "outputs": [
    {
     "data": {
      "text/plain": [
       "M    104\n",
       "F     96\n",
       "Name: Sex, dtype: int64"
      ]
     },
     "execution_count": 10,
     "metadata": {},
     "output_type": "execute_result"
    }
   ],
   "source": [
    "df.Sex.value_counts()"
   ]
  },
  {
   "cell_type": "code",
   "execution_count": 11,
   "metadata": {
    "execution": {
     "iopub.execute_input": "2021-11-22T18:49:48.340027Z",
     "iopub.status.busy": "2021-11-22T18:49:48.336028Z",
     "iopub.status.idle": "2021-11-22T18:49:48.456154Z",
     "shell.execute_reply": "2021-11-22T18:49:48.455318Z",
     "shell.execute_reply.started": "2021-11-22T14:17:00.336691Z"
    },
    "papermill": {
     "duration": 0.190969,
     "end_time": "2021-11-22T18:49:48.456256",
     "exception": false,
     "start_time": "2021-11-22T18:49:48.265287",
     "status": "completed"
    },
    "tags": []
   },
   "outputs": [
    {
     "data": {
      "image/png": "[encoded data removed]",
      "text/plain": [
       "<Figure size 648x360 with 1 Axes>"
      ]
     },
     "metadata": {
      "needs_background": "light"
     },
     "output_type": "display_data"
    }
   ],
   "source": [
    "# Sex Distribution\n",
    "plt.figure(figsize=(9,5))\n",
    "sns.countplot(x = df.Sex)\n",
    "plt.show()"
   ]
  },
  {
   "cell_type": "markdown",
   "metadata": {
    "papermill": {
     "duration": 0.08151,
     "end_time": "2021-11-22T18:49:48.608256",
     "exception": false,
     "start_time": "2021-11-22T18:49:48.526746",
     "status": "completed"
    },
    "tags": []
   },
   "source": [
    "* The ratio of gender seems balanced in the data\n",
    "* This is a categorical variable. It would be better if we apply label encoder to avoid any error during model implementation."
   ]
  },
  {
   "cell_type": "markdown",
   "metadata": {
    "papermill": {
     "duration": 0.055995,
     "end_time": "2021-11-22T18:49:48.720523",
     "exception": false,
     "start_time": "2021-11-22T18:49:48.664528",
     "status": "completed"
    },
    "tags": []
   },
   "source": [
    "<a id='6'></a>\n",
    "### BP Variable"
   ]
  },
  {
   "cell_type": "code",
   "execution_count": 12,
   "metadata": {
    "execution": {
     "iopub.execute_input": "2021-11-22T18:49:48.843495Z",
     "iopub.status.busy": "2021-11-22T18:49:48.842958Z",
     "iopub.status.idle": "2021-11-22T18:49:48.848225Z",
     "shell.execute_reply": "2021-11-22T18:49:48.847739Z",
     "shell.execute_reply.started": "2021-11-22T14:17:00.458007Z"
    },
    "papermill": {
     "duration": 0.067778,
     "end_time": "2021-11-22T18:49:48.848312",
     "exception": false,
     "start_time": "2021-11-22T18:49:48.780534",
     "status": "completed"
    },
    "tags": []
   },
   "outputs": [
    {
     "data": {
      "text/plain": [
       "HIGH      77\n",
       "LOW       64\n",
       "NORMAL    59\n",
       "Name: BP, dtype: int64"
      ]
     },
     "execution_count": 12,
     "metadata": {},
     "output_type": "execute_result"
    }
   ],
   "source": [
    "df.BP.value_counts()"
   ]
  },
  {
   "cell_type": "code",
   "execution_count": 13,
   "metadata": {
    "execution": {
     "iopub.execute_input": "2021-11-22T18:49:48.971769Z",
     "iopub.status.busy": "2021-11-22T18:49:48.965321Z",
     "iopub.status.idle": "2021-11-22T18:49:49.077084Z",
     "shell.execute_reply": "2021-11-22T18:49:49.076294Z",
     "shell.execute_reply.started": "2021-11-22T14:17:00.468763Z"
    },
    "papermill": {
     "duration": 0.173345,
     "end_time": "2021-11-22T18:49:49.077194",
     "exception": false,
     "start_time": "2021-11-22T18:49:48.903849",
     "status": "completed"
    },
    "tags": []
   },
   "outputs": [
    {
     "data": {
      "image/png": "[encoded data removed]",
      "text/plain": [
       "<Figure size 648x360 with 1 Axes>"
      ]
     },
     "metadata": {
      "needs_background": "light"
     },
     "output_type": "display_data"
    }
   ],
   "source": [
    "plt.figure(figsize = (9,5))\n",
    "sns.countplot(df.BP)\n",
    "plt.show()"
   ]
  },
  {
   "cell_type": "markdown",
   "metadata": {
    "papermill": {
     "duration": 0.056108,
     "end_time": "2021-11-22T18:49:49.197823",
     "exception": false,
     "start_time": "2021-11-22T18:49:49.141715",
     "status": "completed"
    },
    "tags": []
   },
   "source": []
  },
  {
   "cell_type": "markdown",
   "metadata": {
    "papermill": {
     "duration": 0.056091,
     "end_time": "2021-11-22T18:49:49.310036",
     "exception": false,
     "start_time": "2021-11-22T18:49:49.253945",
     "status": "completed"
    },
    "tags": []
   },
   "source": [
    "<a id='7'></a>\n",
    "### Cholesterol Variable"
   ]
  },
  {
   "cell_type": "code",
   "execution_count": 14,
   "metadata": {
    "execution": {
     "iopub.execute_input": "2021-11-22T18:49:49.431387Z",
     "iopub.status.busy": "2021-11-22T18:49:49.430475Z",
     "iopub.status.idle": "2021-11-22T18:49:49.435199Z",
     "shell.execute_reply": "2021-11-22T18:49:49.434747Z",
     "shell.execute_reply.started": "2021-11-22T14:17:00.597582Z"
    },
    "papermill": {
     "duration": 0.067743,
     "end_time": "2021-11-22T18:49:49.435302",
     "exception": false,
     "start_time": "2021-11-22T18:49:49.367559",
     "status": "completed"
    },
    "tags": []
   },
   "outputs": [
    {
     "data": {
      "text/plain": [
       "HIGH      103\n",
       "NORMAL     97\n",
       "Name: Cholesterol, dtype: int64"
      ]
     },
     "execution_count": 14,
     "metadata": {},
     "output_type": "execute_result"
    }
   ],
   "source": [
    "df.Cholesterol.value_counts()"
   ]
  },
  {
   "cell_type": "code",
   "execution_count": 15,
   "metadata": {
    "execution": {
     "iopub.execute_input": "2021-11-22T18:49:49.559745Z",
     "iopub.status.busy": "2021-11-22T18:49:49.558724Z",
     "iopub.status.idle": "2021-11-22T18:49:49.722612Z",
     "shell.execute_reply": "2021-11-22T18:49:49.723057Z",
     "shell.execute_reply.started": "2021-11-22T14:17:00.609937Z"
    },
    "papermill": {
     "duration": 0.229857,
     "end_time": "2021-11-22T18:49:49.723207",
     "exception": false,
     "start_time": "2021-11-22T18:49:49.493350",
     "status": "completed"
    },
    "tags": []
   },
   "outputs": [
    {
     "data": {
      "image/png": "[encoded data removed]",
      "text/plain": [
       "<Figure size 648x360 with 1 Axes>"
      ]
     },
     "metadata": {
      "needs_background": "light"
     },
     "output_type": "display_data"
    }
   ],
   "source": [
    "plt.figure(figsize = (9,5))\n",
    "sns.countplot(df.Cholesterol)\n",
    "plt.show()"
   ]
  },
  {
   "cell_type": "markdown",
   "metadata": {
    "papermill": {
     "duration": 0.05809,
     "end_time": "2021-11-22T18:49:49.843165",
     "exception": false,
     "start_time": "2021-11-22T18:49:49.785075",
     "status": "completed"
    },
    "tags": []
   },
   "source": [
    "* Cholesterol is a balanced data. \n",
    "* It is categorical and label encoder will apply on it."
   ]
  },
  {
   "cell_type": "markdown",
   "metadata": {
    "papermill": {
     "duration": 0.057358,
     "end_time": "2021-11-22T18:49:49.957998",
     "exception": false,
     "start_time": "2021-11-22T18:49:49.900640",
     "status": "completed"
    },
    "tags": []
   },
   "source": [
    "<a id='8'></a>\n",
    "### Na_to_K Variable"
   ]
  },
  {
   "cell_type": "code",
   "execution_count": 16,
   "metadata": {
    "execution": {
     "iopub.execute_input": "2021-11-22T18:49:50.081750Z",
     "iopub.status.busy": "2021-11-22T18:49:50.080732Z",
     "iopub.status.idle": "2021-11-22T18:49:50.084596Z",
     "shell.execute_reply": "2021-11-22T18:49:50.085114Z",
     "shell.execute_reply.started": "2021-11-22T14:17:00.722968Z"
    },
    "papermill": {
     "duration": 0.068772,
     "end_time": "2021-11-22T18:49:50.085244",
     "exception": false,
     "start_time": "2021-11-22T18:49:50.016472",
     "status": "completed"
    },
    "tags": []
   },
   "outputs": [
    {
     "name": "stdout",
     "output_type": "stream",
     "text": [
      "Max Na_to_K: 38.247\n",
      "Min Na_to_K: 6.269\n",
      "Mean Na_to_K: 16.08448499999999\n"
     ]
    }
   ],
   "source": [
    "print(\"Max Na_to_K:\",df.Na_to_K.max())\n",
    "print(\"Min Na_to_K:\",df.Na_to_K.min())\n",
    "print(\"Mean Na_to_K:\",df.Na_to_K.mean())"
   ]
  },
  {
   "cell_type": "code",
   "execution_count": 17,
   "metadata": {
    "execution": {
     "iopub.execute_input": "2021-11-22T18:49:50.296232Z",
     "iopub.status.busy": "2021-11-22T18:49:50.295196Z",
     "iopub.status.idle": "2021-11-22T18:49:50.514894Z",
     "shell.execute_reply": "2021-11-22T18:49:50.515953Z",
     "shell.execute_reply.started": "2021-11-22T14:17:00.732708Z"
    },
    "papermill": {
     "duration": 0.328589,
     "end_time": "2021-11-22T18:49:50.516130",
     "exception": false,
     "start_time": "2021-11-22T18:49:50.187541",
     "status": "completed"
    },
    "tags": []
   },
   "outputs": [
    {
     "data": {
      "image/png": "[encoded data removed]",
      "text/plain": [
       "<Figure size 648x360 with 1 Axes>"
      ]
     },
     "metadata": {
      "needs_background": "light"
     },
     "output_type": "display_data"
    }
   ],
   "source": [
    "plt.figure(figsize = (9,5))\n",
    "sns.distplot(df.Na_to_K)\n",
    "plt.show()"
   ]
  },
  {
   "cell_type": "markdown",
   "metadata": {
    "papermill": {
     "duration": 0.097121,
     "end_time": "2021-11-22T18:49:50.720008",
     "exception": false,
     "start_time": "2021-11-22T18:49:50.622887",
     "status": "completed"
    },
    "tags": []
   },
   "source": [
    "<a id='9'></a>\n",
    "### Drug Variable"
   ]
  },
  {
   "cell_type": "code",
   "execution_count": 18,
   "metadata": {
    "execution": {
     "iopub.execute_input": "2021-11-22T18:49:50.885297Z",
     "iopub.status.busy": "2021-11-22T18:49:50.884550Z",
     "iopub.status.idle": "2021-11-22T18:49:50.888146Z",
     "shell.execute_reply": "2021-11-22T18:49:50.887725Z",
     "shell.execute_reply.started": "2021-11-22T14:17:00.903532Z"
    },
    "papermill": {
     "duration": 0.068588,
     "end_time": "2021-11-22T18:49:50.888240",
     "exception": false,
     "start_time": "2021-11-22T18:49:50.819652",
     "status": "completed"
    },
    "tags": []
   },
   "outputs": [
    {
     "data": {
      "text/plain": [
       "DrugY    91\n",
       "drugX    54\n",
       "drugA    23\n",
       "drugC    16\n",
       "drugB    16\n",
       "Name: Drug, dtype: int64"
      ]
     },
     "execution_count": 18,
     "metadata": {},
     "output_type": "execute_result"
    }
   ],
   "source": [
    "df.Drug.value_counts()"
   ]
  },
  {
   "cell_type": "code",
   "execution_count": 19,
   "metadata": {
    "execution": {
     "iopub.execute_input": "2021-11-22T18:49:51.012725Z",
     "iopub.status.busy": "2021-11-22T18:49:51.011900Z",
     "iopub.status.idle": "2021-11-22T18:49:51.118663Z",
     "shell.execute_reply": "2021-11-22T18:49:51.119164Z",
     "shell.execute_reply.started": "2021-11-22T14:17:00.916341Z"
    },
    "papermill": {
     "duration": 0.172568,
     "end_time": "2021-11-22T18:49:51.119303",
     "exception": false,
     "start_time": "2021-11-22T18:49:50.946735",
     "status": "completed"
    },
    "tags": []
   },
   "outputs": [
    {
     "data": {
      "image/png": "[encoded data removed]",
      "text/plain": [
       "<Figure size 648x360 with 1 Axes>"
      ]
     },
     "metadata": {
      "needs_background": "light"
     },
     "output_type": "display_data"
    }
   ],
   "source": [
    "plt.figure(figsize = (9,5))\n",
    "sns.countplot(df.Drug)\n",
    "plt.show()"
   ]
  },
  {
   "cell_type": "markdown",
   "metadata": {
    "papermill": {
     "duration": 0.059852,
     "end_time": "2021-11-22T18:49:51.241866",
     "exception": false,
     "start_time": "2021-11-22T18:49:51.182014",
     "status": "completed"
    },
    "tags": []
   },
   "source": [
    "* Drug is target column and you can see that it is unbalanced dataset. Using K Fold cross-validation would be better for reliable results."
   ]
  },
  {
   "cell_type": "markdown",
   "metadata": {
    "papermill": {
     "duration": 0.05994,
     "end_time": "2021-11-22T18:49:51.361270",
     "exception": false,
     "start_time": "2021-11-22T18:49:51.301330",
     "status": "completed"
    },
    "tags": []
   },
   "source": [
    "<a id='10'></a>\n",
    "# Basic Data Analysis\n",
    "\n",
    "* Age -- Drug\n",
    "* Sex -- Drug\n",
    "* BP -- Drug\n",
    "* Cholesterol -- Drug"
   ]
  },
  {
   "cell_type": "markdown",
   "metadata": {
    "papermill": {
     "duration": 0.059263,
     "end_time": "2021-11-22T18:49:51.479772",
     "exception": false,
     "start_time": "2021-11-22T18:49:51.420509",
     "status": "completed"
    },
    "tags": []
   },
   "source": [
    "<a id='11'></a>\n",
    "## Age -- Drug"
   ]
  },
  {
   "cell_type": "code",
   "execution_count": 20,
   "metadata": {
    "execution": {
     "iopub.execute_input": "2021-11-22T18:49:51.607974Z",
     "iopub.status.busy": "2021-11-22T18:49:51.607035Z",
     "iopub.status.idle": "2021-11-22T18:49:51.801516Z",
     "shell.execute_reply": "2021-11-22T18:49:51.802033Z",
     "shell.execute_reply.started": "2021-11-22T14:17:01.042896Z"
    },
    "papermill": {
     "duration": 0.262901,
     "end_time": "2021-11-22T18:49:51.802171",
     "exception": false,
     "start_time": "2021-11-22T18:49:51.539270",
     "status": "completed"
    },
    "tags": []
   },
   "outputs": [
    {
     "data": {
      "image/png": "[encoded data removed]",
      "text/plain": [
       "<Figure size 648x360 with 1 Axes>"
      ]
     },
     "metadata": {
      "needs_background": "light"
     },
     "output_type": "display_data"
    }
   ],
   "source": [
    "plt.figure(figsize = (9,5))\n",
    "sns.swarmplot(x = \"Drug\", y = \"Age\",data = df)\n",
    "plt.legend(df.Drug.value_counts().index)\n",
    "plt.title(\"Age -- Drug\")\n",
    "plt.show()"
   ]
  },
  {
   "cell_type": "code",
   "execution_count": 21,
   "metadata": {
    "execution": {
     "iopub.execute_input": "2021-11-22T18:49:51.934863Z",
     "iopub.status.busy": "2021-11-22T18:49:51.934079Z",
     "iopub.status.idle": "2021-11-22T18:49:51.937875Z",
     "shell.execute_reply": "2021-11-22T18:49:51.938431Z",
     "shell.execute_reply.started": "2021-11-22T14:17:01.244894Z"
    },
    "papermill": {
     "duration": 0.072812,
     "end_time": "2021-11-22T18:49:51.938585",
     "exception": false,
     "start_time": "2021-11-22T18:49:51.865773",
     "status": "completed"
    },
    "tags": []
   },
   "outputs": [
    {
     "name": "stdout",
     "output_type": "stream",
     "text": [
      "Minimum Age of DrugB 51\n",
      "Maximum Age of DrugA 50\n"
     ]
    }
   ],
   "source": [
    "print(\"Minimum Age of DrugB\",df.Age[df.Drug == \"drugB\"].min())\n",
    "print(\"Maximum Age of DrugA\",df.Age[df.Drug == \"drugA\"].max())"
   ]
  },
  {
   "cell_type": "markdown",
   "metadata": {
    "papermill": {
     "duration": 0.061268,
     "end_time": "2021-11-22T18:49:52.061794",
     "exception": false,
     "start_time": "2021-11-22T18:49:52.000526",
     "status": "completed"
    },
    "tags": []
   },
   "source": [
    "* DrugB is taken only by older than 51 years old. \n",
    "* DrugA is taken only by younger than 50 years old. "
   ]
  },
  {
   "cell_type": "markdown",
   "metadata": {
    "papermill": {
     "duration": 0.061276,
     "end_time": "2021-11-22T18:49:52.183620",
     "exception": false,
     "start_time": "2021-11-22T18:49:52.122344",
     "status": "completed"
    },
    "tags": []
   },
   "source": [
    "<a id='12'></a>\n",
    "## Sex -- Drug"
   ]
  },
  {
   "cell_type": "code",
   "execution_count": 22,
   "metadata": {
    "execution": {
     "iopub.execute_input": "2021-11-22T18:49:52.319166Z",
     "iopub.status.busy": "2021-11-22T18:49:52.318436Z",
     "iopub.status.idle": "2021-11-22T18:49:52.323394Z",
     "shell.execute_reply": "2021-11-22T18:49:52.322916Z",
     "shell.execute_reply.started": "2021-11-22T14:17:01.260179Z"
    },
    "papermill": {
     "duration": 0.079113,
     "end_time": "2021-11-22T18:49:52.323483",
     "exception": false,
     "start_time": "2021-11-22T18:49:52.244370",
     "status": "completed"
    },
    "tags": []
   },
   "outputs": [
    {
     "data": {
      "text/html": [
       "<div>\n",
       "<style scoped>\n",
       "    .dataframe tbody tr th:only-of-type {\n",
       "        vertical-align: middle;\n",
       "    }\n",
       "\n",
       "    .dataframe tbody tr th {\n",
       "        vertical-align: top;\n",
       "    }\n",
       "\n",
       "    .dataframe thead th {\n",
       "        text-align: right;\n",
       "    }\n",
       "</style>\n",
       "<table border=\"1\" class=\"dataframe\">\n",
       "  <thead>\n",
       "    <tr style=\"text-align: right;\">\n",
       "      <th></th>\n",
       "      <th>Drug</th>\n",
       "      <th>Sex</th>\n",
       "      <th>Count</th>\n",
       "    </tr>\n",
       "  </thead>\n",
       "  <tbody>\n",
       "    <tr>\n",
       "      <th>0</th>\n",
       "      <td>DrugY</td>\n",
       "      <td>F</td>\n",
       "      <td>47</td>\n",
       "    </tr>\n",
       "    <tr>\n",
       "      <th>1</th>\n",
       "      <td>DrugY</td>\n",
       "      <td>M</td>\n",
       "      <td>44</td>\n",
       "    </tr>\n",
       "    <tr>\n",
       "      <th>2</th>\n",
       "      <td>drugA</td>\n",
       "      <td>F</td>\n",
       "      <td>9</td>\n",
       "    </tr>\n",
       "    <tr>\n",
       "      <th>3</th>\n",
       "      <td>drugA</td>\n",
       "      <td>M</td>\n",
       "      <td>14</td>\n",
       "    </tr>\n",
       "    <tr>\n",
       "      <th>4</th>\n",
       "      <td>drugB</td>\n",
       "      <td>F</td>\n",
       "      <td>6</td>\n",
       "    </tr>\n",
       "    <tr>\n",
       "      <th>5</th>\n",
       "      <td>drugB</td>\n",
       "      <td>M</td>\n",
       "      <td>10</td>\n",
       "    </tr>\n",
       "    <tr>\n",
       "      <th>6</th>\n",
       "      <td>drugC</td>\n",
       "      <td>F</td>\n",
       "      <td>7</td>\n",
       "    </tr>\n",
       "    <tr>\n",
       "      <th>7</th>\n",
       "      <td>drugC</td>\n",
       "      <td>M</td>\n",
       "      <td>9</td>\n",
       "    </tr>\n",
       "    <tr>\n",
       "      <th>8</th>\n",
       "      <td>drugX</td>\n",
       "      <td>F</td>\n",
       "      <td>27</td>\n",
       "    </tr>\n",
       "    <tr>\n",
       "      <th>9</th>\n",
       "      <td>drugX</td>\n",
       "      <td>M</td>\n",
       "      <td>27</td>\n",
       "    </tr>\n",
       "  </tbody>\n",
       "</table>\n",
       "</div>"
      ],
      "text/plain": [
       "    Drug Sex  Count\n",
       "0  DrugY   F     47\n",
       "1  DrugY   M     44\n",
       "2  drugA   F      9\n",
       "3  drugA   M     14\n",
       "4  drugB   F      6\n",
       "5  drugB   M     10\n",
       "6  drugC   F      7\n",
       "7  drugC   M      9\n",
       "8  drugX   F     27\n",
       "9  drugX   M     27"
      ]
     },
     "execution_count": 22,
     "metadata": {},
     "output_type": "execute_result"
    }
   ],
   "source": [
    "df_Sex_Drug = df.groupby([\"Drug\",\"Sex\"]).size().reset_index(name = \"Count\")\n",
    "df_Sex_Drug"
   ]
  },
  {
   "cell_type": "code",
   "execution_count": 23,
   "metadata": {
    "execution": {
     "iopub.execute_input": "2021-11-22T18:49:52.466748Z",
     "iopub.status.busy": "2021-11-22T18:49:52.465805Z",
     "iopub.status.idle": "2021-11-22T18:49:52.615537Z",
     "shell.execute_reply": "2021-11-22T18:49:52.616072Z",
     "shell.execute_reply.started": "2021-11-22T14:17:01.276948Z"
    },
    "papermill": {
     "duration": 0.23077,
     "end_time": "2021-11-22T18:49:52.616210",
     "exception": false,
     "start_time": "2021-11-22T18:49:52.385440",
     "status": "completed"
    },
    "tags": []
   },
   "outputs": [
    {
     "data": {
      "image/png": "[encoded data removed]",
      "text/plain": [
       "<Figure size 648x360 with 1 Axes>"
      ]
     },
     "metadata": {
      "needs_background": "light"
     },
     "output_type": "display_data"
    }
   ],
   "source": [
    "\n",
    "plt.figure(figsize = (9,5))\n",
    "sns.barplot(x = \"Drug\",y=\"Count\", hue = \"Sex\",data = df_Sex_Drug)\n",
    "plt.title(\"Sex -- Drug\")\n",
    "plt.show()"
   ]
  },
  {
   "cell_type": "markdown",
   "metadata": {
    "papermill": {
     "duration": 0.062327,
     "end_time": "2021-11-22T18:49:52.743084",
     "exception": false,
     "start_time": "2021-11-22T18:49:52.680757",
     "status": "completed"
    },
    "tags": []
   },
   "source": [
    "* Male people get drugA, drugB and drugC more than male people.\n",
    "* Female people get DrugY more than female people.\n",
    "* drugX seems equal for male and female people.\n",
    "* According to this graph, Sex feature is not an important feature for classification."
   ]
  },
  {
   "cell_type": "markdown",
   "metadata": {
    "papermill": {
     "duration": 0.061926,
     "end_time": "2021-11-22T18:49:52.867520",
     "exception": false,
     "start_time": "2021-11-22T18:49:52.805594",
     "status": "completed"
    },
    "tags": []
   },
   "source": [
    "<a id='13'></a>\n",
    "## BP -- Drug"
   ]
  },
  {
   "cell_type": "code",
   "execution_count": 24,
   "metadata": {
    "execution": {
     "iopub.execute_input": "2021-11-22T18:49:53.000180Z",
     "iopub.status.busy": "2021-11-22T18:49:52.999210Z",
     "iopub.status.idle": "2021-11-22T18:49:53.010811Z",
     "shell.execute_reply": "2021-11-22T18:49:53.010245Z",
     "shell.execute_reply.started": "2021-11-22T14:17:01.459837Z"
    },
    "papermill": {
     "duration": 0.080235,
     "end_time": "2021-11-22T18:49:53.010913",
     "exception": false,
     "start_time": "2021-11-22T18:49:52.930678",
     "status": "completed"
    },
    "tags": []
   },
   "outputs": [
    {
     "data": {
      "text/html": [
       "<div>\n",
       "<style scoped>\n",
       "    .dataframe tbody tr th:only-of-type {\n",
       "        vertical-align: middle;\n",
       "    }\n",
       "\n",
       "    .dataframe tbody tr th {\n",
       "        vertical-align: top;\n",
       "    }\n",
       "\n",
       "    .dataframe thead th {\n",
       "        text-align: right;\n",
       "    }\n",
       "</style>\n",
       "<table border=\"1\" class=\"dataframe\">\n",
       "  <thead>\n",
       "    <tr style=\"text-align: right;\">\n",
       "      <th></th>\n",
       "      <th>Drug</th>\n",
       "      <th>BP</th>\n",
       "      <th>Count</th>\n",
       "    </tr>\n",
       "  </thead>\n",
       "  <tbody>\n",
       "    <tr>\n",
       "      <th>0</th>\n",
       "      <td>DrugY</td>\n",
       "      <td>HIGH</td>\n",
       "      <td>38</td>\n",
       "    </tr>\n",
       "    <tr>\n",
       "      <th>1</th>\n",
       "      <td>DrugY</td>\n",
       "      <td>LOW</td>\n",
       "      <td>30</td>\n",
       "    </tr>\n",
       "    <tr>\n",
       "      <th>2</th>\n",
       "      <td>DrugY</td>\n",
       "      <td>NORMAL</td>\n",
       "      <td>23</td>\n",
       "    </tr>\n",
       "    <tr>\n",
       "      <th>3</th>\n",
       "      <td>drugA</td>\n",
       "      <td>HIGH</td>\n",
       "      <td>23</td>\n",
       "    </tr>\n",
       "    <tr>\n",
       "      <th>4</th>\n",
       "      <td>drugB</td>\n",
       "      <td>HIGH</td>\n",
       "      <td>16</td>\n",
       "    </tr>\n",
       "    <tr>\n",
       "      <th>5</th>\n",
       "      <td>drugC</td>\n",
       "      <td>LOW</td>\n",
       "      <td>16</td>\n",
       "    </tr>\n",
       "    <tr>\n",
       "      <th>6</th>\n",
       "      <td>drugX</td>\n",
       "      <td>LOW</td>\n",
       "      <td>18</td>\n",
       "    </tr>\n",
       "    <tr>\n",
       "      <th>7</th>\n",
       "      <td>drugX</td>\n",
       "      <td>NORMAL</td>\n",
       "      <td>36</td>\n",
       "    </tr>\n",
       "  </tbody>\n",
       "</table>\n",
       "</div>"
      ],
      "text/plain": [
       "    Drug      BP  Count\n",
       "0  DrugY    HIGH     38\n",
       "1  DrugY     LOW     30\n",
       "2  DrugY  NORMAL     23\n",
       "3  drugA    HIGH     23\n",
       "4  drugB    HIGH     16\n",
       "5  drugC     LOW     16\n",
       "6  drugX     LOW     18\n",
       "7  drugX  NORMAL     36"
      ]
     },
     "execution_count": 24,
     "metadata": {},
     "output_type": "execute_result"
    }
   ],
   "source": [
    "df_BP_Drug = df.groupby([\"Drug\",\"BP\"]).size().reset_index(name = \"Count\")\n",
    "df_BP_Drug"
   ]
  },
  {
   "cell_type": "code",
   "execution_count": 25,
   "metadata": {
    "execution": {
     "iopub.execute_input": "2021-11-22T18:49:53.146249Z",
     "iopub.status.busy": "2021-11-22T18:49:53.145372Z",
     "iopub.status.idle": "2021-11-22T18:49:53.344388Z",
     "shell.execute_reply": "2021-11-22T18:49:53.344832Z",
     "shell.execute_reply.started": "2021-11-22T14:17:01.477017Z"
    },
    "papermill": {
     "duration": 0.270817,
     "end_time": "2021-11-22T18:49:53.344966",
     "exception": false,
     "start_time": "2021-11-22T18:49:53.074149",
     "status": "completed"
    },
    "tags": []
   },
   "outputs": [
    {
     "data": {
      "image/png": "[encoded data removed]",
      "text/plain": [
       "<Figure size 648x360 with 1 Axes>"
      ]
     },
     "metadata": {
      "needs_background": "light"
     },
     "output_type": "display_data"
    }
   ],
   "source": [
    "plt.figure(figsize = (9,5))\n",
    "sns.barplot(x = \"Drug\",y=\"Count\", hue = \"BP\",data = df_BP_Drug)\n",
    "plt.title(\"BP -- Drug\")\n",
    "plt.show()"
   ]
  },
  {
   "cell_type": "markdown",
   "metadata": {
    "papermill": {
     "duration": 0.063493,
     "end_time": "2021-11-22T18:49:53.475591",
     "exception": false,
     "start_time": "2021-11-22T18:49:53.412098",
     "status": "completed"
    },
    "tags": []
   },
   "source": [
    "* drugA and drugB are got only by people who have HIGH blood pressure.\n",
    "* drugC is got by people who have LOW blood pressure.\n",
    "* drugX is got by people who have HIGH blood pressure.\n",
    "* BP is an important feature for classification."
   ]
  },
  {
   "cell_type": "markdown",
   "metadata": {
    "papermill": {
     "duration": 0.063427,
     "end_time": "2021-11-22T18:49:53.603675",
     "exception": false,
     "start_time": "2021-11-22T18:49:53.540248",
     "status": "completed"
    },
    "tags": []
   },
   "source": [
    "<a id='14'></a>\n",
    "## Na_to_K -- Drug"
   ]
  },
  {
   "cell_type": "code",
   "execution_count": 26,
   "metadata": {
    "execution": {
     "iopub.execute_input": "2021-11-22T18:49:53.745462Z",
     "iopub.status.busy": "2021-11-22T18:49:53.744337Z",
     "iopub.status.idle": "2021-11-22T18:49:53.906639Z",
     "shell.execute_reply": "2021-11-22T18:49:53.907092Z",
     "shell.execute_reply.started": "2021-11-22T14:17:01.818825Z"
    },
    "papermill": {
     "duration": 0.237748,
     "end_time": "2021-11-22T18:49:53.907214",
     "exception": false,
     "start_time": "2021-11-22T18:49:53.669466",
     "status": "completed"
    },
    "tags": []
   },
   "outputs": [
    {
     "data": {
      "image/png": "[encoded data removed]",
      "text/plain": [
       "<Figure size 648x360 with 1 Axes>"
      ]
     },
     "metadata": {
      "needs_background": "light"
     },
     "output_type": "display_data"
    }
   ],
   "source": [
    "plt.figure(figsize = (9,5))\n",
    "sns.swarmplot(x = \"Drug\", y = \"Na_to_K\",data = df)\n",
    "plt.title(\"Na_to_K -- Drug\")\n",
    "plt.show()"
   ]
  },
  {
   "cell_type": "code",
   "execution_count": 27,
   "metadata": {
    "execution": {
     "iopub.execute_input": "2021-11-22T18:49:54.043085Z",
     "iopub.status.busy": "2021-11-22T18:49:54.042388Z",
     "iopub.status.idle": "2021-11-22T18:49:54.046629Z",
     "shell.execute_reply": "2021-11-22T18:49:54.046058Z",
     "shell.execute_reply.started": "2021-11-22T14:17:02.011264Z"
    },
    "papermill": {
     "duration": 0.073861,
     "end_time": "2021-11-22T18:49:54.046766",
     "exception": false,
     "start_time": "2021-11-22T18:49:53.972905",
     "status": "completed"
    },
    "tags": []
   },
   "outputs": [
    {
     "name": "stdout",
     "output_type": "stream",
     "text": [
      "Minimum Na_to_K for DrugY: 15.015\n"
     ]
    }
   ],
   "source": [
    "print(\"Minimum Na_to_K for DrugY:\",df.Na_to_K[df.Drug == \"DrugY\"].min())"
   ]
  },
  {
   "cell_type": "markdown",
   "metadata": {
    "papermill": {
     "duration": 0.064221,
     "end_time": "2021-11-22T18:49:54.175982",
     "exception": false,
     "start_time": "2021-11-22T18:49:54.111761",
     "status": "completed"
    },
    "tags": []
   },
   "source": [
    "* People who have Na_to_K ratio is bigger than 15, get DrugY.\n",
    "* We can create a new feature from here."
   ]
  },
  {
   "cell_type": "markdown",
   "metadata": {
    "papermill": {
     "duration": 0.064617,
     "end_time": "2021-11-22T18:49:54.305991",
     "exception": false,
     "start_time": "2021-11-22T18:49:54.241374",
     "status": "completed"
    },
    "tags": []
   },
   "source": [
    "<a id='15'></a>\n",
    "## Cholesterol -- Drug"
   ]
  },
  {
   "cell_type": "code",
   "execution_count": 28,
   "metadata": {
    "execution": {
     "iopub.execute_input": "2021-11-22T18:49:54.449440Z",
     "iopub.status.busy": "2021-11-22T18:49:54.443837Z",
     "iopub.status.idle": "2021-11-22T18:49:54.453350Z",
     "shell.execute_reply": "2021-11-22T18:49:54.452922Z",
     "shell.execute_reply.started": "2021-11-22T14:17:02.019269Z"
    },
    "papermill": {
     "duration": 0.082209,
     "end_time": "2021-11-22T18:49:54.453447",
     "exception": false,
     "start_time": "2021-11-22T18:49:54.371238",
     "status": "completed"
    },
    "tags": []
   },
   "outputs": [
    {
     "data": {
      "text/html": [
       "<div>\n",
       "<style scoped>\n",
       "    .dataframe tbody tr th:only-of-type {\n",
       "        vertical-align: middle;\n",
       "    }\n",
       "\n",
       "    .dataframe tbody tr th {\n",
       "        vertical-align: top;\n",
       "    }\n",
       "\n",
       "    .dataframe thead th {\n",
       "        text-align: right;\n",
       "    }\n",
       "</style>\n",
       "<table border=\"1\" class=\"dataframe\">\n",
       "  <thead>\n",
       "    <tr style=\"text-align: right;\">\n",
       "      <th></th>\n",
       "      <th>Drug</th>\n",
       "      <th>Cholesterol</th>\n",
       "      <th>Count</th>\n",
       "    </tr>\n",
       "  </thead>\n",
       "  <tbody>\n",
       "    <tr>\n",
       "      <th>0</th>\n",
       "      <td>DrugY</td>\n",
       "      <td>HIGH</td>\n",
       "      <td>47</td>\n",
       "    </tr>\n",
       "    <tr>\n",
       "      <th>1</th>\n",
       "      <td>DrugY</td>\n",
       "      <td>NORMAL</td>\n",
       "      <td>44</td>\n",
       "    </tr>\n",
       "    <tr>\n",
       "      <th>2</th>\n",
       "      <td>drugA</td>\n",
       "      <td>HIGH</td>\n",
       "      <td>12</td>\n",
       "    </tr>\n",
       "    <tr>\n",
       "      <th>3</th>\n",
       "      <td>drugA</td>\n",
       "      <td>NORMAL</td>\n",
       "      <td>11</td>\n",
       "    </tr>\n",
       "    <tr>\n",
       "      <th>4</th>\n",
       "      <td>drugB</td>\n",
       "      <td>HIGH</td>\n",
       "      <td>8</td>\n",
       "    </tr>\n",
       "    <tr>\n",
       "      <th>5</th>\n",
       "      <td>drugB</td>\n",
       "      <td>NORMAL</td>\n",
       "      <td>8</td>\n",
       "    </tr>\n",
       "    <tr>\n",
       "      <th>6</th>\n",
       "      <td>drugC</td>\n",
       "      <td>HIGH</td>\n",
       "      <td>16</td>\n",
       "    </tr>\n",
       "    <tr>\n",
       "      <th>7</th>\n",
       "      <td>drugX</td>\n",
       "      <td>HIGH</td>\n",
       "      <td>20</td>\n",
       "    </tr>\n",
       "    <tr>\n",
       "      <th>8</th>\n",
       "      <td>drugX</td>\n",
       "      <td>NORMAL</td>\n",
       "      <td>34</td>\n",
       "    </tr>\n",
       "  </tbody>\n",
       "</table>\n",
       "</div>"
      ],
      "text/plain": [
       "    Drug Cholesterol  Count\n",
       "0  DrugY        HIGH     47\n",
       "1  DrugY      NORMAL     44\n",
       "2  drugA        HIGH     12\n",
       "3  drugA      NORMAL     11\n",
       "4  drugB        HIGH      8\n",
       "5  drugB      NORMAL      8\n",
       "6  drugC        HIGH     16\n",
       "7  drugX        HIGH     20\n",
       "8  drugX      NORMAL     34"
      ]
     },
     "execution_count": 28,
     "metadata": {},
     "output_type": "execute_result"
    }
   ],
   "source": [
    "df_CH_Drug = df.groupby([\"Drug\",\"Cholesterol\"]).size().reset_index(name = \"Count\")\n",
    "df_CH_Drug"
   ]
  },
  {
   "cell_type": "code",
   "execution_count": 29,
   "metadata": {
    "execution": {
     "iopub.execute_input": "2021-11-22T18:49:54.594228Z",
     "iopub.status.busy": "2021-11-22T18:49:54.593237Z",
     "iopub.status.idle": "2021-11-22T18:49:54.761156Z",
     "shell.execute_reply": "2021-11-22T18:49:54.760345Z",
     "shell.execute_reply.started": "2021-11-22T14:17:02.040544Z"
    },
    "papermill": {
     "duration": 0.241396,
     "end_time": "2021-11-22T18:49:54.761284",
     "exception": false,
     "start_time": "2021-11-22T18:49:54.519888",
     "status": "completed"
    },
    "tags": []
   },
   "outputs": [
    {
     "data": {
      "image/png": "[encoded data removed]",
      "text/plain": [
       "<Figure size 648x360 with 1 Axes>"
      ]
     },
     "metadata": {
      "needs_background": "light"
     },
     "output_type": "display_data"
    }
   ],
   "source": [
    "plt.figure(figsize = (9,5))\n",
    "sns.barplot(x = \"Drug\",y=\"Count\", hue = \"Cholesterol\",data = df_CH_Drug)\n",
    "plt.title(\"Cholesterol -- Drug\")\n",
    "plt.show()"
   ]
  },
  {
   "cell_type": "markdown",
   "metadata": {
    "papermill": {
     "duration": 0.068107,
     "end_time": "2021-11-22T18:49:54.898652",
     "exception": false,
     "start_time": "2021-11-22T18:49:54.830545",
     "status": "completed"
    },
    "tags": []
   },
   "source": [
    "* drugC is got by people who have HIGH cholesterol.\n",
    "* Cholesterol is an important feature to classify drugC"
   ]
  },
  {
   "cell_type": "markdown",
   "metadata": {
    "papermill": {
     "duration": 0.06579,
     "end_time": "2021-11-22T18:49:55.031529",
     "exception": false,
     "start_time": "2021-11-22T18:49:54.965739",
     "status": "completed"
    },
    "tags": []
   },
   "source": [
    "<a id='16'></a>\n",
    "## Na_to_K -- BP -- Drug"
   ]
  },
  {
   "cell_type": "code",
   "execution_count": 30,
   "metadata": {
    "execution": {
     "iopub.execute_input": "2021-11-22T18:49:55.171098Z",
     "iopub.status.busy": "2021-11-22T18:49:55.170205Z",
     "iopub.status.idle": "2021-11-22T18:49:55.463856Z",
     "shell.execute_reply": "2021-11-22T18:49:55.464287Z",
     "shell.execute_reply.started": "2021-11-22T14:17:02.216561Z"
    },
    "papermill": {
     "duration": 0.3668,
     "end_time": "2021-11-22T18:49:55.464411",
     "exception": false,
     "start_time": "2021-11-22T18:49:55.097611",
     "status": "completed"
    },
    "tags": []
   },
   "outputs": [
    {
     "data": {
      "image/png": "[encoded data removed]",
      "text/plain": [
       "<Figure size 648x360 with 1 Axes>"
      ]
     },
     "metadata": {
      "needs_background": "light"
     },
     "output_type": "display_data"
    }
   ],
   "source": [
    "plt.figure(figsize = (9,5))\n",
    "sns.swarmplot(x = \"Drug\", y = \"Na_to_K\",hue=\"BP\",data = df)\n",
    "plt.legend()\n",
    "plt.title(\"Na_to_K -- BP -- Drug\")\n",
    "plt.show()"
   ]
  },
  {
   "cell_type": "markdown",
   "metadata": {
    "papermill": {
     "duration": 0.068896,
     "end_time": "2021-11-22T18:49:55.603746",
     "exception": false,
     "start_time": "2021-11-22T18:49:55.534850",
     "status": "completed"
    },
    "tags": []
   },
   "source": [
    "* If people have HIGH blood pressure and Na_to_K ratio is lower than 15 , they get drugA and drugB only.\n",
    "* If people have LOW blood pressure and Na_to_K ratio is lower than 15 , they get drugC only."
   ]
  },
  {
   "cell_type": "markdown",
   "metadata": {
    "papermill": {
     "duration": 0.0672,
     "end_time": "2021-11-22T18:49:55.741455",
     "exception": false,
     "start_time": "2021-11-22T18:49:55.674255",
     "status": "completed"
    },
    "tags": []
   },
   "source": [
    "<a id='17'></a>\n",
    "# Preparing Data and Feature Engineering"
   ]
  },
  {
   "cell_type": "markdown",
   "metadata": {
    "papermill": {
     "duration": 0.066548,
     "end_time": "2021-11-22T18:49:55.875210",
     "exception": false,
     "start_time": "2021-11-22T18:49:55.808662",
     "status": "completed"
    },
    "tags": []
   },
   "source": [
    "<a id='18'></a>\n",
    "## Create New Features"
   ]
  },
  {
   "cell_type": "markdown",
   "metadata": {
    "papermill": {
     "duration": 0.066348,
     "end_time": "2021-11-22T18:49:56.009427",
     "exception": false,
     "start_time": "2021-11-22T18:49:55.943079",
     "status": "completed"
    },
    "tags": []
   },
   "source": [
    "<a id='19'></a>\n",
    "### Na_to_K_Bigger_Than_15 \n",
    "\n",
    "If Na_to_K is bigger than 15, it is always drugY."
   ]
  },
  {
   "cell_type": "code",
   "execution_count": 31,
   "metadata": {
    "execution": {
     "iopub.execute_input": "2021-11-22T18:49:56.156938Z",
     "iopub.status.busy": "2021-11-22T18:49:56.156064Z",
     "iopub.status.idle": "2021-11-22T18:49:56.159793Z",
     "shell.execute_reply": "2021-11-22T18:49:56.160237Z",
     "shell.execute_reply.started": "2021-11-22T14:17:02.544287Z"
    },
    "papermill": {
     "duration": 0.083872,
     "end_time": "2021-11-22T18:49:56.160361",
     "exception": false,
     "start_time": "2021-11-22T18:49:56.076489",
     "status": "completed"
    },
    "tags": []
   },
   "outputs": [
    {
     "data": {
      "text/html": [
       "<div>\n",
       "<style scoped>\n",
       "    .dataframe tbody tr th:only-of-type {\n",
       "        vertical-align: middle;\n",
       "    }\n",
       "\n",
       "    .dataframe tbody tr th {\n",
       "        vertical-align: top;\n",
       "    }\n",
       "\n",
       "    .dataframe thead th {\n",
       "        text-align: right;\n",
       "    }\n",
       "</style>\n",
       "<table border=\"1\" class=\"dataframe\">\n",
       "  <thead>\n",
       "    <tr style=\"text-align: right;\">\n",
       "      <th></th>\n",
       "      <th>Age</th>\n",
       "      <th>Sex</th>\n",
       "      <th>BP</th>\n",
       "      <th>Cholesterol</th>\n",
       "      <th>Na_to_K</th>\n",
       "      <th>Drug</th>\n",
       "      <th>Na_to_K_Bigger_Than_15</th>\n",
       "    </tr>\n",
       "  </thead>\n",
       "  <tbody>\n",
       "    <tr>\n",
       "      <th>0</th>\n",
       "      <td>23</td>\n",
       "      <td>F</td>\n",
       "      <td>HIGH</td>\n",
       "      <td>HIGH</td>\n",
       "      <td>25.355</td>\n",
       "      <td>DrugY</td>\n",
       "      <td>1</td>\n",
       "    </tr>\n",
       "    <tr>\n",
       "      <th>1</th>\n",
       "      <td>47</td>\n",
       "      <td>M</td>\n",
       "      <td>LOW</td>\n",
       "      <td>HIGH</td>\n",
       "      <td>13.093</td>\n",
       "      <td>drugC</td>\n",
       "      <td>0</td>\n",
       "    </tr>\n",
       "    <tr>\n",
       "      <th>2</th>\n",
       "      <td>47</td>\n",
       "      <td>M</td>\n",
       "      <td>LOW</td>\n",
       "      <td>HIGH</td>\n",
       "      <td>10.114</td>\n",
       "      <td>drugC</td>\n",
       "      <td>0</td>\n",
       "    </tr>\n",
       "    <tr>\n",
       "      <th>3</th>\n",
       "      <td>28</td>\n",
       "      <td>F</td>\n",
       "      <td>NORMAL</td>\n",
       "      <td>HIGH</td>\n",
       "      <td>7.798</td>\n",
       "      <td>drugX</td>\n",
       "      <td>0</td>\n",
       "    </tr>\n",
       "    <tr>\n",
       "      <th>4</th>\n",
       "      <td>61</td>\n",
       "      <td>F</td>\n",
       "      <td>LOW</td>\n",
       "      <td>HIGH</td>\n",
       "      <td>18.043</td>\n",
       "      <td>DrugY</td>\n",
       "      <td>1</td>\n",
       "    </tr>\n",
       "  </tbody>\n",
       "</table>\n",
       "</div>"
      ],
      "text/plain": [
       "   Age Sex      BP Cholesterol  Na_to_K   Drug  Na_to_K_Bigger_Than_15\n",
       "0   23   F    HIGH        HIGH   25.355  DrugY                       1\n",
       "1   47   M     LOW        HIGH   13.093  drugC                       0\n",
       "2   47   M     LOW        HIGH   10.114  drugC                       0\n",
       "3   28   F  NORMAL        HIGH    7.798  drugX                       0\n",
       "4   61   F     LOW        HIGH   18.043  DrugY                       1"
      ]
     },
     "execution_count": 31,
     "metadata": {},
     "output_type": "execute_result"
    }
   ],
   "source": [
    "df['Na_to_K_Bigger_Than_15'] = [1 if i >=15.015 else 0 for i in df.Na_to_K]\n",
    "df.head()"
   ]
  },
  {
   "cell_type": "code",
   "execution_count": 32,
   "metadata": {
    "execution": {
     "iopub.execute_input": "2021-11-22T18:49:56.308343Z",
     "iopub.status.busy": "2021-11-22T18:49:56.307529Z",
     "iopub.status.idle": "2021-11-22T18:49:56.311224Z",
     "shell.execute_reply": "2021-11-22T18:49:56.310806Z",
     "shell.execute_reply.started": "2021-11-22T14:17:02.561896Z"
    },
    "papermill": {
     "duration": 0.082608,
     "end_time": "2021-11-22T18:49:56.311329",
     "exception": false,
     "start_time": "2021-11-22T18:49:56.228721",
     "status": "completed"
    },
    "tags": []
   },
   "outputs": [
    {
     "data": {
      "text/html": [
       "<div>\n",
       "<style scoped>\n",
       "    .dataframe tbody tr th:only-of-type {\n",
       "        vertical-align: middle;\n",
       "    }\n",
       "\n",
       "    .dataframe tbody tr th {\n",
       "        vertical-align: top;\n",
       "    }\n",
       "\n",
       "    .dataframe thead th {\n",
       "        text-align: right;\n",
       "    }\n",
       "</style>\n",
       "<table border=\"1\" class=\"dataframe\">\n",
       "  <thead>\n",
       "    <tr style=\"text-align: right;\">\n",
       "      <th></th>\n",
       "      <th>Drug</th>\n",
       "      <th>Na_to_K_Bigger_Than_15</th>\n",
       "      <th>Count</th>\n",
       "    </tr>\n",
       "  </thead>\n",
       "  <tbody>\n",
       "    <tr>\n",
       "      <th>0</th>\n",
       "      <td>DrugY</td>\n",
       "      <td>1</td>\n",
       "      <td>91</td>\n",
       "    </tr>\n",
       "    <tr>\n",
       "      <th>1</th>\n",
       "      <td>drugA</td>\n",
       "      <td>0</td>\n",
       "      <td>23</td>\n",
       "    </tr>\n",
       "    <tr>\n",
       "      <th>2</th>\n",
       "      <td>drugB</td>\n",
       "      <td>0</td>\n",
       "      <td>16</td>\n",
       "    </tr>\n",
       "    <tr>\n",
       "      <th>3</th>\n",
       "      <td>drugC</td>\n",
       "      <td>0</td>\n",
       "      <td>16</td>\n",
       "    </tr>\n",
       "    <tr>\n",
       "      <th>4</th>\n",
       "      <td>drugX</td>\n",
       "      <td>0</td>\n",
       "      <td>54</td>\n",
       "    </tr>\n",
       "  </tbody>\n",
       "</table>\n",
       "</div>"
      ],
      "text/plain": [
       "    Drug  Na_to_K_Bigger_Than_15  Count\n",
       "0  DrugY                       1     91\n",
       "1  drugA                       0     23\n",
       "2  drugB                       0     16\n",
       "3  drugC                       0     16\n",
       "4  drugX                       0     54"
      ]
     },
     "execution_count": 32,
     "metadata": {},
     "output_type": "execute_result"
    }
   ],
   "source": [
    "df_NaK15 = df.groupby([\"Drug\",\"Na_to_K_Bigger_Than_15\"]).size().reset_index(name = \"Count\")\n",
    "df_NaK15"
   ]
  },
  {
   "cell_type": "code",
   "execution_count": 33,
   "metadata": {
    "execution": {
     "iopub.execute_input": "2021-11-22T18:49:56.453507Z",
     "iopub.status.busy": "2021-11-22T18:49:56.452448Z",
     "iopub.status.idle": "2021-11-22T18:49:56.633946Z",
     "shell.execute_reply": "2021-11-22T18:49:56.633481Z",
     "shell.execute_reply.started": "2021-11-22T14:17:02.580267Z"
    },
    "papermill": {
     "duration": 0.254567,
     "end_time": "2021-11-22T18:49:56.634051",
     "exception": false,
     "start_time": "2021-11-22T18:49:56.379484",
     "status": "completed"
    },
    "tags": []
   },
   "outputs": [
    {
     "data": {
      "image/png": "[encoded data removed]",
      "text/plain": [
       "<Figure size 648x360 with 1 Axes>"
      ]
     },
     "metadata": {
      "needs_background": "light"
     },
     "output_type": "display_data"
    }
   ],
   "source": [
    "plt.figure(figsize = (9,5))\n",
    "sns.barplot(x = \"Drug\",y=\"Count\", hue = \"Na_to_K_Bigger_Than_15\",data = df_NaK15)\n",
    "plt.title(\"Na_to_K_Bigger_Than_15 -- Drug\")\n",
    "plt.show()"
   ]
  },
  {
   "cell_type": "markdown",
   "metadata": {
    "papermill": {
     "duration": 0.068361,
     "end_time": "2021-11-22T18:49:56.773527",
     "exception": false,
     "start_time": "2021-11-22T18:49:56.705166",
     "status": "completed"
    },
    "tags": []
   },
   "source": [
    "* Na_to_K_Bigger_Than_15 feature will be important feature to drugY classification."
   ]
  },
  {
   "cell_type": "markdown",
   "metadata": {
    "papermill": {
     "duration": 0.067292,
     "end_time": "2021-11-22T18:49:56.909218",
     "exception": false,
     "start_time": "2021-11-22T18:49:56.841926",
     "status": "completed"
    },
    "tags": []
   },
   "source": [
    "<a id='20'></a>\n",
    "## Label Encoding\n",
    "\n",
    "We will convert from object to int64\n",
    "\n",
    "* Sex\n",
    "* BP\n",
    "* Cholesterol\n",
    "* Na_to_K\n",
    "* Na_to_K_Bigger_Than_15"
   ]
  },
  {
   "cell_type": "code",
   "execution_count": 34,
   "metadata": {
    "execution": {
     "iopub.execute_input": "2021-11-22T18:49:57.051500Z",
     "iopub.status.busy": "2021-11-22T18:49:57.050745Z",
     "iopub.status.idle": "2021-11-22T18:49:57.053631Z",
     "shell.execute_reply": "2021-11-22T18:49:57.053217Z",
     "shell.execute_reply.started": "2021-11-22T14:17:02.791307Z"
    },
    "papermill": {
     "duration": 0.07654,
     "end_time": "2021-11-22T18:49:57.053750",
     "exception": false,
     "start_time": "2021-11-22T18:49:56.977210",
     "status": "completed"
    },
    "tags": []
   },
   "outputs": [],
   "source": [
    "from sklearn.preprocessing import LabelEncoder\n",
    "\n",
    "def label_encoder(y):\n",
    "    le = LabelEncoder()\n",
    "    df[y] = le.fit_transform(df[y])"
   ]
  },
  {
   "cell_type": "code",
   "execution_count": 35,
   "metadata": {
    "execution": {
     "iopub.execute_input": "2021-11-22T18:49:57.198149Z",
     "iopub.status.busy": "2021-11-22T18:49:57.197413Z",
     "iopub.status.idle": "2021-11-22T18:49:57.200216Z",
     "shell.execute_reply": "2021-11-22T18:49:57.200680Z",
     "shell.execute_reply.started": "2021-11-22T14:17:02.798871Z"
    },
    "papermill": {
     "duration": 0.0786,
     "end_time": "2021-11-22T18:49:57.200823",
     "exception": false,
     "start_time": "2021-11-22T18:49:57.122223",
     "status": "completed"
    },
    "tags": []
   },
   "outputs": [],
   "source": [
    "label_list = [\"Sex\",\"BP\",\"Cholesterol\",\"Na_to_K\",\"Na_to_K_Bigger_Than_15\",\"Drug\"]\n",
    "\n",
    "for l in label_list:\n",
    "    label_encoder(l)"
   ]
  },
  {
   "cell_type": "code",
   "execution_count": 36,
   "metadata": {
    "execution": {
     "iopub.execute_input": "2021-11-22T18:49:57.347075Z",
     "iopub.status.busy": "2021-11-22T18:49:57.346283Z",
     "iopub.status.idle": "2021-11-22T18:49:57.351648Z",
     "shell.execute_reply": "2021-11-22T18:49:57.351242Z",
     "shell.execute_reply.started": "2021-11-22T14:17:02.814726Z"
    },
    "papermill": {
     "duration": 0.082698,
     "end_time": "2021-11-22T18:49:57.351771",
     "exception": false,
     "start_time": "2021-11-22T18:49:57.269073",
     "status": "completed"
    },
    "tags": []
   },
   "outputs": [
    {
     "data": {
      "text/html": [
       "<div>\n",
       "<style scoped>\n",
       "    .dataframe tbody tr th:only-of-type {\n",
       "        vertical-align: middle;\n",
       "    }\n",
       "\n",
       "    .dataframe tbody tr th {\n",
       "        vertical-align: top;\n",
       "    }\n",
       "\n",
       "    .dataframe thead th {\n",
       "        text-align: right;\n",
       "    }\n",
       "</style>\n",
       "<table border=\"1\" class=\"dataframe\">\n",
       "  <thead>\n",
       "    <tr style=\"text-align: right;\">\n",
       "      <th></th>\n",
       "      <th>Age</th>\n",
       "      <th>Sex</th>\n",
       "      <th>BP</th>\n",
       "      <th>Cholesterol</th>\n",
       "      <th>Na_to_K</th>\n",
       "      <th>Drug</th>\n",
       "      <th>Na_to_K_Bigger_Than_15</th>\n",
       "    </tr>\n",
       "  </thead>\n",
       "  <tbody>\n",
       "    <tr>\n",
       "      <th>0</th>\n",
       "      <td>23</td>\n",
       "      <td>0</td>\n",
       "      <td>0</td>\n",
       "      <td>0</td>\n",
       "      <td>167</td>\n",
       "      <td>0</td>\n",
       "      <td>1</td>\n",
       "    </tr>\n",
       "    <tr>\n",
       "      <th>1</th>\n",
       "      <td>47</td>\n",
       "      <td>1</td>\n",
       "      <td>1</td>\n",
       "      <td>0</td>\n",
       "      <td>89</td>\n",
       "      <td>3</td>\n",
       "      <td>0</td>\n",
       "    </tr>\n",
       "    <tr>\n",
       "      <th>2</th>\n",
       "      <td>47</td>\n",
       "      <td>1</td>\n",
       "      <td>1</td>\n",
       "      <td>0</td>\n",
       "      <td>43</td>\n",
       "      <td>3</td>\n",
       "      <td>0</td>\n",
       "    </tr>\n",
       "    <tr>\n",
       "      <th>3</th>\n",
       "      <td>28</td>\n",
       "      <td>0</td>\n",
       "      <td>2</td>\n",
       "      <td>0</td>\n",
       "      <td>10</td>\n",
       "      <td>4</td>\n",
       "      <td>0</td>\n",
       "    </tr>\n",
       "    <tr>\n",
       "      <th>4</th>\n",
       "      <td>61</td>\n",
       "      <td>0</td>\n",
       "      <td>1</td>\n",
       "      <td>0</td>\n",
       "      <td>133</td>\n",
       "      <td>0</td>\n",
       "      <td>1</td>\n",
       "    </tr>\n",
       "  </tbody>\n",
       "</table>\n",
       "</div>"
      ],
      "text/plain": [
       "   Age  Sex  BP  Cholesterol  Na_to_K  Drug  Na_to_K_Bigger_Than_15\n",
       "0   23    0   0            0      167     0                       1\n",
       "1   47    1   1            0       89     3                       0\n",
       "2   47    1   1            0       43     3                       0\n",
       "3   28    0   2            0       10     4                       0\n",
       "4   61    0   1            0      133     0                       1"
      ]
     },
     "execution_count": 36,
     "metadata": {},
     "output_type": "execute_result"
    }
   ],
   "source": [
    "df.head()"
   ]
  },
  {
   "cell_type": "markdown",
   "metadata": {
    "papermill": {
     "duration": 0.068088,
     "end_time": "2021-11-22T18:49:57.488615",
     "exception": false,
     "start_time": "2021-11-22T18:49:57.420527",
     "status": "completed"
    },
    "tags": []
   },
   "source": [
    "<a id='21'></a>\n",
    "## Train Test Split"
   ]
  },
  {
   "cell_type": "code",
   "execution_count": 37,
   "metadata": {
    "execution": {
     "iopub.execute_input": "2021-11-22T18:49:57.641464Z",
     "iopub.status.busy": "2021-11-22T18:49:57.640562Z",
     "iopub.status.idle": "2021-11-22T18:49:57.647097Z",
     "shell.execute_reply": "2021-11-22T18:49:57.646504Z",
     "shell.execute_reply.started": "2021-11-22T14:17:02.834314Z"
    },
    "papermill": {
     "duration": 0.088071,
     "end_time": "2021-11-22T18:49:57.647227",
     "exception": false,
     "start_time": "2021-11-22T18:49:57.559156",
     "status": "completed"
    },
    "tags": []
   },
   "outputs": [
    {
     "name": "stdout",
     "output_type": "stream",
     "text": [
      "x_train shape: (160, 6)\n",
      "x_test shape: (40, 6)\n",
      "y_train shape: (160, 1)\n",
      "y_test shape: (40, 1)\n"
     ]
    }
   ],
   "source": [
    "from sklearn.model_selection import train_test_split\n",
    "\n",
    "x = df.drop([\"Drug\"],axis=1)\n",
    "y = df.Drug\n",
    "\n",
    "x_train, x_test, y_train, y_test = train_test_split(x,y,test_size = 0.2, random_state = 42, shuffle = True)\n",
    "\n",
    "y_train = y_train.values.reshape(-1,1)\n",
    "y_test = y_test.values.reshape(-1,1)\n",
    "\n",
    "print(\"x_train shape:\",x_train.shape)\n",
    "print(\"x_test shape:\",x_test.shape)\n",
    "print(\"y_train shape:\",y_train.shape)\n",
    "print(\"y_test shape:\",y_test.shape)"
   ]
  },
  {
   "cell_type": "markdown",
   "metadata": {
    "papermill": {
     "duration": 0.06898,
     "end_time": "2021-11-22T18:49:57.787873",
     "exception": false,
     "start_time": "2021-11-22T18:49:57.718893",
     "status": "completed"
    },
    "tags": []
   },
   "source": [
    "Data was splitted as 80% train data and 20% test data."
   ]
  },
  {
   "cell_type": "code",
   "execution_count": null,
   "metadata": {
    "papermill": {
     "duration": 0.069451,
     "end_time": "2021-11-22T18:49:57.926094",
     "exception": false,
     "start_time": "2021-11-22T18:49:57.856643",
     "status": "completed"
    },
    "tags": []
   },
   "outputs": [],
   "source": []
  },
  {
   "cell_type": "markdown",
   "metadata": {
    "papermill": {
     "duration": 0.069735,
     "end_time": "2021-11-22T18:49:58.064362",
     "exception": false,
     "start_time": "2021-11-22T18:49:57.994627",
     "status": "completed"
    },
    "tags": []
   },
   "source": [
    "<a id='22'></a>\n",
    "# Model Implementation\n",
    "\n",
    "I will try three models and compare their results. For all models, I apply GridSearchCV method to find best score. Also, to be sure our models performance are random, I will use 5 Fold Cross Validation method."
   ]
  },
  {
   "cell_type": "code",
   "execution_count": 38,
   "metadata": {
    "execution": {
     "iopub.execute_input": "2021-11-22T18:49:58.215163Z",
     "iopub.status.busy": "2021-11-22T18:49:58.214355Z",
     "iopub.status.idle": "2021-11-22T18:49:58.217202Z",
     "shell.execute_reply": "2021-11-22T18:49:58.216769Z",
     "shell.execute_reply.started": "2021-11-22T14:17:02.853431Z"
    },
    "papermill": {
     "duration": 0.075707,
     "end_time": "2021-11-22T18:49:58.217298",
     "exception": false,
     "start_time": "2021-11-22T18:49:58.141591",
     "status": "completed"
    },
    "tags": []
   },
   "outputs": [],
   "source": [
    "# To store results of models\n",
    "result_dict_train = {}\n",
    "result_dict_test = {}"
   ]
  },
  {
   "cell_type": "markdown",
   "metadata": {
    "papermill": {
     "duration": 0.069016,
     "end_time": "2021-11-22T18:49:58.355815",
     "exception": false,
     "start_time": "2021-11-22T18:49:58.286799",
     "status": "completed"
    },
    "tags": []
   },
   "source": [
    "<a id='23'></a>\n",
    "## KNN Classifier\n",
    "\n",
    "To find best score of KNN model, I will try different value of n_neighbors, p, and weights parameters. "
   ]
  },
  {
   "cell_type": "markdown",
   "metadata": {
    "papermill": {
     "duration": 0.068599,
     "end_time": "2021-11-22T18:49:58.495647",
     "exception": false,
     "start_time": "2021-11-22T18:49:58.427048",
     "status": "completed"
    },
    "tags": []
   },
   "source": [
    "<a id='24'></a>\n",
    "### Default Parameters"
   ]
  },
  {
   "cell_type": "code",
   "execution_count": 39,
   "metadata": {
    "execution": {
     "iopub.execute_input": "2021-11-22T18:49:58.640579Z",
     "iopub.status.busy": "2021-11-22T18:49:58.639975Z",
     "iopub.status.idle": "2021-11-22T18:49:58.790851Z",
     "shell.execute_reply": "2021-11-22T18:49:58.791270Z",
     "shell.execute_reply.started": "2021-11-22T14:17:02.859752Z"
    },
    "papermill": {
     "duration": 0.226504,
     "end_time": "2021-11-22T18:49:58.791411",
     "exception": false,
     "start_time": "2021-11-22T18:49:58.564907",
     "status": "completed"
    },
    "tags": []
   },
   "outputs": [
    {
     "name": "stdout",
     "output_type": "stream",
     "text": [
      "Train Score: 0.59375\n",
      "Test Score: 0.65\n"
     ]
    }
   ],
   "source": [
    "from sklearn.neighbors import KNeighborsClassifier\n",
    "\n",
    "knn = KNeighborsClassifier()\n",
    "accuracies = cross_val_score(knn, x_train, y_train, cv=5)\n",
    "knn.fit(x_train,y_train)\n",
    "\n",
    "print(\"Train Score:\",np.mean(accuracies))\n",
    "print(\"Test Score:\",knn.score(x_test,y_test))"
   ]
  },
  {
   "cell_type": "code",
   "execution_count": 40,
   "metadata": {
    "execution": {
     "iopub.execute_input": "2021-11-22T18:49:58.939525Z",
     "iopub.status.busy": "2021-11-22T18:49:58.938443Z",
     "iopub.status.idle": "2021-11-22T18:49:58.943835Z",
     "shell.execute_reply": "2021-11-22T18:49:58.943282Z",
     "shell.execute_reply.started": "2021-11-22T14:17:02.916525Z"
    },
    "papermill": {
     "duration": 0.081516,
     "end_time": "2021-11-22T18:49:58.943931",
     "exception": false,
     "start_time": "2021-11-22T18:49:58.862415",
     "status": "completed"
    },
    "tags": []
   },
   "outputs": [],
   "source": [
    "result_dict_train[\"KNN Default Train Score\"] = np.mean(accuracies)\n",
    "result_dict_test[\"KNN Default Test Score\"] = knn.score(x_test,y_test)"
   ]
  },
  {
   "cell_type": "markdown",
   "metadata": {
    "papermill": {
     "duration": 0.069713,
     "end_time": "2021-11-22T18:49:59.084306",
     "exception": false,
     "start_time": "2021-11-22T18:49:59.014593",
     "status": "completed"
    },
    "tags": []
   },
   "source": [
    "<a id='25'></a>\n",
    "### GridSearchCV"
   ]
  },
  {
   "cell_type": "code",
   "execution_count": 41,
   "metadata": {
    "execution": {
     "iopub.execute_input": "2021-11-22T18:49:59.234648Z",
     "iopub.status.busy": "2021-11-22T18:49:59.233809Z",
     "iopub.status.idle": "2021-11-22T18:50:12.698883Z",
     "shell.execute_reply": "2021-11-22T18:50:12.698047Z",
     "shell.execute_reply.started": "2021-11-22T14:17:02.927291Z"
    },
    "papermill": {
     "duration": 13.544726,
     "end_time": "2021-11-22T18:50:12.698997",
     "exception": false,
     "start_time": "2021-11-22T18:49:59.154271",
     "status": "completed"
    },
    "tags": []
   },
   "outputs": [
    {
     "name": "stdout",
     "output_type": "stream",
     "text": [
      "Hyperparameters: {'n_neighbors': 10, 'p': 1, 'weights': 'distance'}\n",
      "Train Score: 0.75625\n",
      "Test Score: 0.7\n"
     ]
    }
   ],
   "source": [
    "grid = {'n_neighbors':np.arange(1,120),\n",
    "        'p':np.arange(1,3),\n",
    "        'weights':['uniform','distance']\n",
    "       }\n",
    "\n",
    "knn = KNeighborsClassifier(algorithm = \"auto\")\n",
    "knn_cv = GridSearchCV(knn,grid,cv=5)\n",
    "knn_cv.fit(x_train,y_train)\n",
    "\n",
    "print(\"Hyperparameters:\",knn_cv.best_params_)\n",
    "print(\"Train Score:\",knn_cv.best_score_)\n",
    "print(\"Test Score:\",knn_cv.score(x_test,y_test))"
   ]
  },
  {
   "cell_type": "code",
   "execution_count": 42,
   "metadata": {
    "execution": {
     "iopub.execute_input": "2021-11-22T18:50:12.851100Z",
     "iopub.status.busy": "2021-11-22T18:50:12.850282Z",
     "iopub.status.idle": "2021-11-22T18:50:12.854252Z",
     "shell.execute_reply": "2021-11-22T18:50:12.853798Z",
     "shell.execute_reply.started": "2021-11-22T14:17:16.417360Z"
    },
    "papermill": {
     "duration": 0.080089,
     "end_time": "2021-11-22T18:50:12.854346",
     "exception": false,
     "start_time": "2021-11-22T18:50:12.774257",
     "status": "completed"
    },
    "tags": []
   },
   "outputs": [],
   "source": [
    "result_dict_train[\"KNN GridSearch Train Score\"] = knn_cv.best_score_\n",
    "result_dict_test[\"KNN GridSearch Test Score\"] = knn_cv.score(x_test,y_test)"
   ]
  },
  {
   "cell_type": "markdown",
   "metadata": {
    "papermill": {
     "duration": 0.078857,
     "end_time": "2021-11-22T18:50:13.004646",
     "exception": false,
     "start_time": "2021-11-22T18:50:12.925789",
     "status": "completed"
    },
    "tags": []
   },
   "source": [
    "<a id='26'></a>\n",
    "# Random Forest\n",
    "\n",
    "\n",
    "To find best score of Random Forest model, I will try different value of n_estimators and criterion parameters."
   ]
  },
  {
   "cell_type": "markdown",
   "metadata": {
    "papermill": {
     "duration": 0.069502,
     "end_time": "2021-11-22T18:50:13.146115",
     "exception": false,
     "start_time": "2021-11-22T18:50:13.076613",
     "status": "completed"
    },
    "tags": []
   },
   "source": [
    "<a id='27'></a>\n",
    "### Default Parameters"
   ]
  },
  {
   "cell_type": "code",
   "execution_count": 43,
   "metadata": {
    "execution": {
     "iopub.execute_input": "2021-11-22T18:50:13.291756Z",
     "iopub.status.busy": "2021-11-22T18:50:13.291094Z",
     "iopub.status.idle": "2021-11-22T18:50:14.353085Z",
     "shell.execute_reply": "2021-11-22T18:50:14.352198Z",
     "shell.execute_reply.started": "2021-11-22T14:17:16.425468Z"
    },
    "papermill": {
     "duration": 1.137045,
     "end_time": "2021-11-22T18:50:14.353229",
     "exception": false,
     "start_time": "2021-11-22T18:50:13.216184",
     "status": "completed"
    },
    "tags": []
   },
   "outputs": [
    {
     "name": "stdout",
     "output_type": "stream",
     "text": [
      "Train Score: 0.98125\n",
      "Test Score: 0.975\n"
     ]
    }
   ],
   "source": [
    "from sklearn.ensemble import RandomForestClassifier\n",
    "\n",
    "rfc = RandomForestClassifier(random_state = 42)\n",
    "accuracies = cross_val_score(rfc, x_train, y_train, cv=5)\n",
    "rfc.fit(x_train,y_train)\n",
    "\n",
    "print(\"Train Score:\",np.mean(accuracies))\n",
    "print(\"Test Score:\",rfc.score(x_test,y_test))"
   ]
  },
  {
   "cell_type": "code",
   "execution_count": 44,
   "metadata": {
    "execution": {
     "iopub.execute_input": "2021-11-22T18:50:14.512198Z",
     "iopub.status.busy": "2021-11-22T18:50:14.511427Z",
     "iopub.status.idle": "2021-11-22T18:50:14.514471Z",
     "shell.execute_reply": "2021-11-22T18:50:14.513967Z",
     "shell.execute_reply.started": "2021-11-22T14:17:17.618720Z"
    },
    "papermill": {
     "duration": 0.091378,
     "end_time": "2021-11-22T18:50:14.514569",
     "exception": false,
     "start_time": "2021-11-22T18:50:14.423191",
     "status": "completed"
    },
    "tags": []
   },
   "outputs": [],
   "source": [
    "result_dict_train[\"Random Forest Default Train Score\"] = np.mean(accuracies)\n",
    "result_dict_test[\"Random Forest Default Test Score\"] = rfc.score(x_test,y_test)"
   ]
  },
  {
   "cell_type": "markdown",
   "metadata": {
    "papermill": {
     "duration": 0.068873,
     "end_time": "2021-11-22T18:50:14.652679",
     "exception": false,
     "start_time": "2021-11-22T18:50:14.583806",
     "status": "completed"
    },
    "tags": []
   },
   "source": [
    "<a id='28'></a>\n",
    "### GridSearchCV"
   ]
  },
  {
   "cell_type": "code",
   "execution_count": 45,
   "metadata": {
    "execution": {
     "iopub.execute_input": "2021-11-22T18:50:14.802779Z",
     "iopub.status.busy": "2021-11-22T18:50:14.799227Z",
     "iopub.status.idle": "2021-11-22T18:51:32.925440Z",
     "shell.execute_reply": "2021-11-22T18:51:32.925946Z",
     "shell.execute_reply.started": "2021-11-22T14:17:17.640904Z"
    },
    "papermill": {
     "duration": 78.20399,
     "end_time": "2021-11-22T18:51:32.926100",
     "exception": false,
     "start_time": "2021-11-22T18:50:14.722110",
     "status": "completed"
    },
    "tags": []
   },
   "outputs": [
    {
     "name": "stdout",
     "output_type": "stream",
     "text": [
      "Hyperparameters: {'criterion': 'entropy', 'n_estimators': 100}\n",
      "Train Score: 0.9875\n",
      "Test Score: 0.975\n"
     ]
    }
   ],
   "source": [
    "grid = {'n_estimators':np.arange(100,1000,100),\n",
    "        'criterion':['gini','entropy']\n",
    "       }\n",
    "\n",
    "rf = RandomForestClassifier(random_state = 42)\n",
    "rf_cv = GridSearchCV(rf,grid,cv=5)\n",
    "rf_cv.fit(x_train,y_train)\n",
    "\n",
    "print(\"Hyperparameters:\",rf_cv.best_params_)\n",
    "print(\"Train Score:\",rf_cv.best_score_)\n",
    "print(\"Test Score:\",rf_cv.score(x_test,y_test))"
   ]
  },
  {
   "cell_type": "code",
   "execution_count": 46,
   "metadata": {
    "execution": {
     "iopub.execute_input": "2021-11-22T18:51:33.079763Z",
     "iopub.status.busy": "2021-11-22T18:51:33.075845Z",
     "iopub.status.idle": "2021-11-22T18:51:33.085969Z",
     "shell.execute_reply": "2021-11-22T18:51:33.085519Z",
     "shell.execute_reply.started": "2021-11-22T14:18:43.399045Z"
    },
    "papermill": {
     "duration": 0.090689,
     "end_time": "2021-11-22T18:51:33.086068",
     "exception": false,
     "start_time": "2021-11-22T18:51:32.995379",
     "status": "completed"
    },
    "tags": []
   },
   "outputs": [],
   "source": [
    "result_dict_train[\"Random Forest GridSearch Train Score\"] = rf_cv.best_score_\n",
    "result_dict_test[\"Random Forest GridSearch Test Score\"] = rf_cv.score(x_test,y_test)"
   ]
  },
  {
   "cell_type": "markdown",
   "metadata": {
    "papermill": {
     "duration": 0.069575,
     "end_time": "2021-11-22T18:51:33.225006",
     "exception": false,
     "start_time": "2021-11-22T18:51:33.155431",
     "status": "completed"
    },
    "tags": []
   },
   "source": [
    "<a id='29'></a>\n",
    "# SVM Classifier\n",
    "\n",
    "To find best score of SVM model, I will try different value of C, kernel, degree and gamma parameters. The easy way to do this is GridSearchCV method."
   ]
  },
  {
   "cell_type": "markdown",
   "metadata": {
    "papermill": {
     "duration": 0.068889,
     "end_time": "2021-11-22T18:51:33.363664",
     "exception": false,
     "start_time": "2021-11-22T18:51:33.294775",
     "status": "completed"
    },
    "tags": []
   },
   "source": [
    "<a id='30'></a>\n",
    "### Default Parameters"
   ]
  },
  {
   "cell_type": "code",
   "execution_count": 47,
   "metadata": {
    "execution": {
     "iopub.execute_input": "2021-11-22T18:51:33.508752Z",
     "iopub.status.busy": "2021-11-22T18:51:33.507916Z",
     "iopub.status.idle": "2021-11-22T18:51:33.544112Z",
     "shell.execute_reply": "2021-11-22T18:51:33.543469Z",
     "shell.execute_reply.started": "2021-11-22T14:18:43.418755Z"
    },
    "papermill": {
     "duration": 0.111534,
     "end_time": "2021-11-22T18:51:33.544237",
     "exception": false,
     "start_time": "2021-11-22T18:51:33.432703",
     "status": "completed"
    },
    "tags": []
   },
   "outputs": [
    {
     "name": "stdout",
     "output_type": "stream",
     "text": [
      "Train Score: 0.7125\n",
      "Test Score: 0.65\n"
     ]
    }
   ],
   "source": [
    "from sklearn.svm import SVC\n",
    "svc = SVC(random_state = 42)\n",
    "accuracies = cross_val_score(svc, x_train, y_train, cv=5)\n",
    "svc.fit(x_train,y_train)\n",
    "\n",
    "print(\"Train Score:\",np.mean(accuracies))\n",
    "print(\"Test Score:\",svc.score(x_test,y_test))"
   ]
  },
  {
   "cell_type": "code",
   "execution_count": 48,
   "metadata": {
    "execution": {
     "iopub.execute_input": "2021-11-22T18:51:33.690322Z",
     "iopub.status.busy": "2021-11-22T18:51:33.689713Z",
     "iopub.status.idle": "2021-11-22T18:51:33.692852Z",
     "shell.execute_reply": "2021-11-22T18:51:33.692368Z",
     "shell.execute_reply.started": "2021-11-22T14:18:43.465638Z"
    },
    "papermill": {
     "duration": 0.078557,
     "end_time": "2021-11-22T18:51:33.692940",
     "exception": false,
     "start_time": "2021-11-22T18:51:33.614383",
     "status": "completed"
    },
    "tags": []
   },
   "outputs": [],
   "source": [
    "result_dict_train[\"SVM Default Train Score\"] = np.mean(accuracies)\n",
    "result_dict_test[\"SVM Default Test Score\"] = svc.score(x_test,y_test)"
   ]
  },
  {
   "cell_type": "markdown",
   "metadata": {
    "papermill": {
     "duration": 0.069285,
     "end_time": "2021-11-22T18:51:33.833231",
     "exception": false,
     "start_time": "2021-11-22T18:51:33.763946",
     "status": "completed"
    },
    "tags": []
   },
   "source": [
    "<a id='31'></a>\n",
    "### GridSearchCV"
   ]
  },
  {
   "cell_type": "code",
   "execution_count": 49,
   "metadata": {
    "execution": {
     "iopub.execute_input": "2021-11-22T18:51:33.980632Z",
     "iopub.status.busy": "2021-11-22T18:51:33.979856Z",
     "iopub.status.idle": "2021-11-22T18:51:41.726538Z",
     "shell.execute_reply": "2021-11-22T18:51:41.727559Z",
     "shell.execute_reply.started": "2021-11-22T14:18:43.474658Z"
    },
    "papermill": {
     "duration": 7.824995,
     "end_time": "2021-11-22T18:51:41.727807",
     "exception": false,
     "start_time": "2021-11-22T18:51:33.902812",
     "status": "completed"
    },
    "tags": []
   },
   "outputs": [
    {
     "name": "stdout",
     "output_type": "stream",
     "text": [
      "Best Parameters: {'C': 1, 'degree': 1, 'gamma': 0.01, 'kernel': 'linear'}\n",
      "Train Score: 0.9875\n",
      "Test Score: 0.975\n"
     ]
    }
   ],
   "source": [
    "grid = {\n",
    "    'C':[0.01,0.1,1,10],\n",
    "    'kernel' : [\"linear\",\"poly\",\"rbf\",\"sigmoid\"],\n",
    "    'degree' : [1,3,5,7],\n",
    "    'gamma' : [0.01,1]\n",
    "}\n",
    "\n",
    "svm  = SVC ();\n",
    "svm_cv = GridSearchCV(svm, grid, cv = 5)\n",
    "svm_cv.fit(x_train,y_train)\n",
    "print(\"Best Parameters:\",svm_cv.best_params_)\n",
    "print(\"Train Score:\",svm_cv.best_score_)\n",
    "print(\"Test Score:\",svm_cv.score(x_test,y_test))\n"
   ]
  },
  {
   "cell_type": "code",
   "execution_count": 50,
   "metadata": {
    "execution": {
     "iopub.execute_input": "2021-11-22T18:51:41.972075Z",
     "iopub.status.busy": "2021-11-22T18:51:41.971219Z",
     "iopub.status.idle": "2021-11-22T18:51:41.975586Z",
     "shell.execute_reply": "2021-11-22T18:51:41.976317Z",
     "shell.execute_reply.started": "2021-11-22T14:18:51.974520Z"
    },
    "papermill": {
     "duration": 0.123668,
     "end_time": "2021-11-22T18:51:41.976491",
     "exception": false,
     "start_time": "2021-11-22T18:51:41.852823",
     "status": "completed"
    },
    "tags": []
   },
   "outputs": [],
   "source": [
    "result_dict_train[\"SVM GridSearch Train Score\"] = svm_cv.best_score_\n",
    "result_dict_test[\"SVM GridSearch Test Score\"] = svm_cv.score(x_test,y_test)"
   ]
  },
  {
   "cell_type": "markdown",
   "metadata": {
    "papermill": {
     "duration": 0.121712,
     "end_time": "2021-11-22T18:51:42.213519",
     "exception": false,
     "start_time": "2021-11-22T18:51:42.091807",
     "status": "completed"
    },
    "tags": []
   },
   "source": [
    "<a id='32'></a>\n",
    "# Conclusion"
   ]
  },
  {
   "cell_type": "code",
   "execution_count": 51,
   "metadata": {
    "execution": {
     "iopub.execute_input": "2021-11-22T18:51:42.498654Z",
     "iopub.status.busy": "2021-11-22T18:51:42.497566Z",
     "iopub.status.idle": "2021-11-22T18:51:42.519501Z",
     "shell.execute_reply": "2021-11-22T18:51:42.520212Z",
     "shell.execute_reply.started": "2021-11-22T14:18:51.983953Z"
    },
    "papermill": {
     "duration": 0.168333,
     "end_time": "2021-11-22T18:51:42.520418",
     "exception": false,
     "start_time": "2021-11-22T18:51:42.352085",
     "status": "completed"
    },
    "tags": []
   },
   "outputs": [
    {
     "data": {
      "text/html": [
       "<div>\n",
       "<style scoped>\n",
       "    .dataframe tbody tr th:only-of-type {\n",
       "        vertical-align: middle;\n",
       "    }\n",
       "\n",
       "    .dataframe tbody tr th {\n",
       "        vertical-align: top;\n",
       "    }\n",
       "\n",
       "    .dataframe thead th {\n",
       "        text-align: right;\n",
       "    }\n",
       "</style>\n",
       "<table border=\"1\" class=\"dataframe\">\n",
       "  <thead>\n",
       "    <tr style=\"text-align: right;\">\n",
       "      <th></th>\n",
       "      <th>Score</th>\n",
       "    </tr>\n",
       "  </thead>\n",
       "  <tbody>\n",
       "    <tr>\n",
       "      <th>KNN Default Train Score</th>\n",
       "      <td>0.59375</td>\n",
       "    </tr>\n",
       "    <tr>\n",
       "      <th>KNN GridSearch Train Score</th>\n",
       "      <td>0.75625</td>\n",
       "    </tr>\n",
       "    <tr>\n",
       "      <th>Random Forest Default Train Score</th>\n",
       "      <td>0.98125</td>\n",
       "    </tr>\n",
       "    <tr>\n",
       "      <th>Random Forest GridSearch Train Score</th>\n",
       "      <td>0.98750</td>\n",
       "    </tr>\n",
       "    <tr>\n",
       "      <th>SVM Default Train Score</th>\n",
       "      <td>0.71250</td>\n",
       "    </tr>\n",
       "    <tr>\n",
       "      <th>SVM GridSearch Train Score</th>\n",
       "      <td>0.98750</td>\n",
       "    </tr>\n",
       "  </tbody>\n",
       "</table>\n",
       "</div>"
      ],
      "text/plain": [
       "                                        Score\n",
       "KNN Default Train Score               0.59375\n",
       "KNN GridSearch Train Score            0.75625\n",
       "Random Forest Default Train Score     0.98125\n",
       "Random Forest GridSearch Train Score  0.98750\n",
       "SVM Default Train Score               0.71250\n",
       "SVM GridSearch Train Score            0.98750"
      ]
     },
     "execution_count": 51,
     "metadata": {},
     "output_type": "execute_result"
    }
   ],
   "source": [
    "df_result_train = pd.DataFrame.from_dict(result_dict_train,orient = \"index\",columns=[\"Score\"])\n",
    "df_result_train"
   ]
  },
  {
   "cell_type": "code",
   "execution_count": 52,
   "metadata": {
    "execution": {
     "iopub.execute_input": "2021-11-22T18:51:42.830445Z",
     "iopub.status.busy": "2021-11-22T18:51:42.827303Z",
     "iopub.status.idle": "2021-11-22T18:51:42.841581Z",
     "shell.execute_reply": "2021-11-22T18:51:42.842101Z",
     "shell.execute_reply.started": "2021-11-22T14:18:52.000843Z"
    },
    "papermill": {
     "duration": 0.175615,
     "end_time": "2021-11-22T18:51:42.842275",
     "exception": false,
     "start_time": "2021-11-22T18:51:42.666660",
     "status": "completed"
    },
    "tags": []
   },
   "outputs": [
    {
     "data": {
      "text/html": [
       "<div>\n",
       "<style scoped>\n",
       "    .dataframe tbody tr th:only-of-type {\n",
       "        vertical-align: middle;\n",
       "    }\n",
       "\n",
       "    .dataframe tbody tr th {\n",
       "        vertical-align: top;\n",
       "    }\n",
       "\n",
       "    .dataframe thead th {\n",
       "        text-align: right;\n",
       "    }\n",
       "</style>\n",
       "<table border=\"1\" class=\"dataframe\">\n",
       "  <thead>\n",
       "    <tr style=\"text-align: right;\">\n",
       "      <th></th>\n",
       "      <th>Score</th>\n",
       "    </tr>\n",
       "  </thead>\n",
       "  <tbody>\n",
       "    <tr>\n",
       "      <th>KNN Default Test Score</th>\n",
       "      <td>0.650</td>\n",
       "    </tr>\n",
       "    <tr>\n",
       "      <th>KNN GridSearch Test Score</th>\n",
       "      <td>0.700</td>\n",
       "    </tr>\n",
       "    <tr>\n",
       "      <th>Random Forest Default Test Score</th>\n",
       "      <td>0.975</td>\n",
       "    </tr>\n",
       "    <tr>\n",
       "      <th>Random Forest GridSearch Test Score</th>\n",
       "      <td>0.975</td>\n",
       "    </tr>\n",
       "    <tr>\n",
       "      <th>SVM Default Test Score</th>\n",
       "      <td>0.650</td>\n",
       "    </tr>\n",
       "    <tr>\n",
       "      <th>SVM GridSearch Test Score</th>\n",
       "      <td>0.975</td>\n",
       "    </tr>\n",
       "  </tbody>\n",
       "</table>\n",
       "</div>"
      ],
      "text/plain": [
       "                                     Score\n",
       "KNN Default Test Score               0.650\n",
       "KNN GridSearch Test Score            0.700\n",
       "Random Forest Default Test Score     0.975\n",
       "Random Forest GridSearch Test Score  0.975\n",
       "SVM Default Test Score               0.650\n",
       "SVM GridSearch Test Score            0.975"
      ]
     },
     "execution_count": 52,
     "metadata": {},
     "output_type": "execute_result"
    }
   ],
   "source": [
    "df_result_test = pd.DataFrame.from_dict(result_dict_test,orient = \"index\",columns=[\"Score\"])\n",
    "df_result_test"
   ]
  },
  {
   "cell_type": "code",
   "execution_count": 53,
   "metadata": {
    "execution": {
     "iopub.execute_input": "2021-11-22T18:51:43.022939Z",
     "iopub.status.busy": "2021-11-22T18:51:43.021660Z",
     "iopub.status.idle": "2021-11-22T18:51:43.314259Z",
     "shell.execute_reply": "2021-11-22T18:51:43.313552Z",
     "shell.execute_reply.started": "2021-11-22T14:18:52.016483Z"
    },
    "papermill": {
     "duration": 0.379221,
     "end_time": "2021-11-22T18:51:43.314378",
     "exception": false,
     "start_time": "2021-11-22T18:51:42.935157",
     "status": "completed"
    },
    "tags": []
   },
   "outputs": [
    {
     "data": {
      "image/png": "[encoded data removed]",
      "text/plain": [
       "<Figure size 1440x360 with 2 Axes>"
      ]
     },
     "metadata": {
      "needs_background": "light"
     },
     "output_type": "display_data"
    }
   ],
   "source": [
    "fig,ax = plt.subplots(1,2,figsize=(20,5))\n",
    "sns.barplot(x = df_result_train.index,y = df_result_train.Score,ax = ax[0])\n",
    "sns.barplot(x = df_result_test.index,y = df_result_test.Score,ax = ax[1])\n",
    "ax[0].set_xticklabels(df_result_train.index,rotation = 75)\n",
    "ax[1].set_xticklabels(df_result_test.index,rotation = 75)\n",
    "plt.show()"
   ]
  },
  {
   "cell_type": "markdown",
   "metadata": {
    "papermill": {
     "duration": 0.083054,
     "end_time": "2021-11-22T18:51:43.485185",
     "exception": false,
     "start_time": "2021-11-22T18:51:43.402131",
     "status": "completed"
    },
    "tags": []
   },
   "source": [
    "* Random Forest classifier  and SVM classifier (after hyperparameter tuning) have a good scores.\n",
    "* KNN classifier has worst score in three clasifiers."
   ]
  }
 ],
 "metadata": {
  "kernelspec": {
   "display_name": "Python 3",
   "language": "python",
   "name": "python3"
  },
  "language_info": {
   "codemirror_mode": {
    "name": "ipython",
    "version": 3
   },
   "file_extension": ".py",
   "mimetype": "text/x-python",
   "name": "python",
   "nbconvert_exporter": "python",
   "pygments_lexer": "ipython3",
   "version": "3.7.6"
  },
  "papermill": {
   "duration": 122.802608,
   "end_time": "2021-11-22T18:51:43.673362",
   "environment_variables": {},
   "exception": null,
   "input_path": "__notebook__.ipynb",
   "output_path": "__notebook__.ipynb",
   "parameters": {},
   "start_time": "2021-11-22T18:49:40.870754",
   "version": "2.1.0"
  }
 },
 "nbformat": 4,
 "nbformat_minor": 4
}
